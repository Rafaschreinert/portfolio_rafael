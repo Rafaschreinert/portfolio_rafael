{
  "nbformat": 4,
  "nbformat_minor": 0,
  "metadata": {
    "colab": {
      "name": "E_Commerce_Data_Project",
      "provenance": [],
      "collapsed_sections": [],
      "mount_file_id": "1KJtKK5lscGctHtB96WbVXPDwJfQ9JJj-",
      "authorship_tag": "ABX9TyPNv/i8gW0TyxUtcd6rs4+0",
      "include_colab_link": true
    },
    "kernelspec": {
      "name": "python3",
      "display_name": "Python 3"
    },
    "language_info": {
      "name": "python"
    }
  },
  "cells": [
    {
      "cell_type": "markdown",
      "metadata": {
        "id": "view-in-github",
        "colab_type": "text"
      },
      "source": [
        "<a href=\"https://colab.research.google.com/github/Rafaschreinert/portfolio_rafael/blob/main/E_Commerce/Notebook/E_Commerce_Data_Project.ipynb\" target=\"_parent\"><img src=\"https://colab.research.google.com/assets/colab-badge.svg\" alt=\"Open In Colab\"/></a>"
      ]
    },
    {
      "cell_type": "markdown",
      "metadata": {
        "id": "8GECuM79QeKU"
      },
      "source": [
        "# **Context**\n",
        "Typically e-commerce datasets are proprietary and consequently hard to find among publicly available data. However, The UCI Machine Learning Repository has made this dataset containing actual transactions from 2010 and 2011. The dataset is maintained on their site, where it can be found by the title \"Online Retail\".\n",
        "\n",
        "# **Content**\n",
        "\"This is a transnational data set which contains all the transactions occurring between 01/12/2010 and 09/12/2011 for a UK-based and registered non-store online retail.The company mainly sells unique all-occasion gifts. Many customers of the company are wholesalers.\"\n",
        "\n",
        "# **Acknowledgements**\n",
        "Per the UCI Machine Learning Repository, this data was made available by Dr Daqing Chen, Director: Public Analytics group. chend '@' lsbu.ac.uk, School of Engineering, London South Bank University, London SE1 0AA, UK.\n",
        "\n",
        "Image from stocksnap.io.\n",
        "\n",
        "# **Inspiration**\n",
        "Analyses for this dataset could include time series, clustering, classification and more."
      ]
    },
    {
      "cell_type": "code",
      "metadata": {
        "id": "Ock03DwW8cnE"
      },
      "source": [
        "import numpy as np # linear algebra\n",
        "import pandas as pd # data processing, CSV file I/O (e.g. pd.read_csv)\n",
        "import datetime as dt\n",
        "import seaborn as sns\n",
        "import matplotlib.pyplot as plt"
      ],
      "execution_count": 92,
      "outputs": []
    },
    {
      "cell_type": "code",
      "metadata": {
        "id": "WlPedZvN0pQy"
      },
      "source": [
        "df = pd.read_csv('/content/drive/MyDrive/Colab Notebooks/Projetos Rafa DS/E-Commerce Project/Dataset/ecommerce_dataset.csv', encoding= 'unicode_escape')"
      ],
      "execution_count": 93,
      "outputs": []
    },
    {
      "cell_type": "code",
      "metadata": {
        "id": "1Svaj4lFfy4w",
        "colab": {
          "base_uri": "https://localhost:8080/",
          "height": 204
        },
        "outputId": "9c96bfe7-8124-48ef-dcca-2c5a0d7c947e"
      },
      "source": [
        "df.head()"
      ],
      "execution_count": 94,
      "outputs": [
        {
          "output_type": "execute_result",
          "data": {
            "text/html": [
              "<div>\n",
              "<style scoped>\n",
              "    .dataframe tbody tr th:only-of-type {\n",
              "        vertical-align: middle;\n",
              "    }\n",
              "\n",
              "    .dataframe tbody tr th {\n",
              "        vertical-align: top;\n",
              "    }\n",
              "\n",
              "    .dataframe thead th {\n",
              "        text-align: right;\n",
              "    }\n",
              "</style>\n",
              "<table border=\"1\" class=\"dataframe\">\n",
              "  <thead>\n",
              "    <tr style=\"text-align: right;\">\n",
              "      <th></th>\n",
              "      <th>InvoiceNo</th>\n",
              "      <th>StockCode</th>\n",
              "      <th>Description</th>\n",
              "      <th>Quantity</th>\n",
              "      <th>InvoiceDate</th>\n",
              "      <th>UnitPrice</th>\n",
              "      <th>CustomerID</th>\n",
              "      <th>Country</th>\n",
              "    </tr>\n",
              "  </thead>\n",
              "  <tbody>\n",
              "    <tr>\n",
              "      <th>0</th>\n",
              "      <td>536365</td>\n",
              "      <td>85123A</td>\n",
              "      <td>WHITE HANGING HEART T-LIGHT HOLDER</td>\n",
              "      <td>6</td>\n",
              "      <td>12/1/2010 8:26</td>\n",
              "      <td>2.55</td>\n",
              "      <td>17850.0</td>\n",
              "      <td>United Kingdom</td>\n",
              "    </tr>\n",
              "    <tr>\n",
              "      <th>1</th>\n",
              "      <td>536365</td>\n",
              "      <td>71053</td>\n",
              "      <td>WHITE METAL LANTERN</td>\n",
              "      <td>6</td>\n",
              "      <td>12/1/2010 8:26</td>\n",
              "      <td>3.39</td>\n",
              "      <td>17850.0</td>\n",
              "      <td>United Kingdom</td>\n",
              "    </tr>\n",
              "    <tr>\n",
              "      <th>2</th>\n",
              "      <td>536365</td>\n",
              "      <td>84406B</td>\n",
              "      <td>CREAM CUPID HEARTS COAT HANGER</td>\n",
              "      <td>8</td>\n",
              "      <td>12/1/2010 8:26</td>\n",
              "      <td>2.75</td>\n",
              "      <td>17850.0</td>\n",
              "      <td>United Kingdom</td>\n",
              "    </tr>\n",
              "    <tr>\n",
              "      <th>3</th>\n",
              "      <td>536365</td>\n",
              "      <td>84029G</td>\n",
              "      <td>KNITTED UNION FLAG HOT WATER BOTTLE</td>\n",
              "      <td>6</td>\n",
              "      <td>12/1/2010 8:26</td>\n",
              "      <td>3.39</td>\n",
              "      <td>17850.0</td>\n",
              "      <td>United Kingdom</td>\n",
              "    </tr>\n",
              "    <tr>\n",
              "      <th>4</th>\n",
              "      <td>536365</td>\n",
              "      <td>84029E</td>\n",
              "      <td>RED WOOLLY HOTTIE WHITE HEART.</td>\n",
              "      <td>6</td>\n",
              "      <td>12/1/2010 8:26</td>\n",
              "      <td>3.39</td>\n",
              "      <td>17850.0</td>\n",
              "      <td>United Kingdom</td>\n",
              "    </tr>\n",
              "  </tbody>\n",
              "</table>\n",
              "</div>"
            ],
            "text/plain": [
              "  InvoiceNo StockCode  ... CustomerID         Country\n",
              "0    536365    85123A  ...    17850.0  United Kingdom\n",
              "1    536365     71053  ...    17850.0  United Kingdom\n",
              "2    536365    84406B  ...    17850.0  United Kingdom\n",
              "3    536365    84029G  ...    17850.0  United Kingdom\n",
              "4    536365    84029E  ...    17850.0  United Kingdom\n",
              "\n",
              "[5 rows x 8 columns]"
            ]
          },
          "metadata": {},
          "execution_count": 94
        }
      ]
    },
    {
      "cell_type": "markdown",
      "metadata": {
        "id": "Zv6_R8GVgAJf"
      },
      "source": [
        "# **Data Cleaning**"
      ]
    },
    {
      "cell_type": "markdown",
      "metadata": {
        "id": "tD79CY_ygN7H"
      },
      "source": [
        "## Data format cleaning\n",
        "\n",
        "To simplify the further analysis, the columns will be renamed as snake case:"
      ]
    },
    {
      "cell_type": "code",
      "metadata": {
        "id": "zMrWHjIxfyzV"
      },
      "source": [
        "df.rename(columns={\"InvoiceNo\":\"invoice_num\", \n",
        "                   \"StockCode\":\"stock_code\", \n",
        "                  \"Description\":\"description\", \n",
        "                  \"Quantity\":\"quantity\", \n",
        "                  \"InvoiceDate\":\"invoice_date\", \n",
        "                  \"UnitPrice\":\"unit_price\", \n",
        "                  \"CustomerID\":\"customer_id\", \n",
        "                  \"Country\":\"country\"}, inplace=True)"
      ],
      "execution_count": 95,
      "outputs": []
    },
    {
      "cell_type": "code",
      "metadata": {
        "id": "uoqsuRC8g0jQ",
        "colab": {
          "base_uri": "https://localhost:8080/"
        },
        "outputId": "e7197688-b789-4ad6-bf95-1bfcc2dab993"
      },
      "source": [
        "df.info()"
      ],
      "execution_count": 96,
      "outputs": [
        {
          "output_type": "stream",
          "name": "stdout",
          "text": [
            "<class 'pandas.core.frame.DataFrame'>\n",
            "RangeIndex: 541909 entries, 0 to 541908\n",
            "Data columns (total 8 columns):\n",
            " #   Column        Non-Null Count   Dtype  \n",
            "---  ------        --------------   -----  \n",
            " 0   invoice_num   541909 non-null  object \n",
            " 1   stock_code    541909 non-null  object \n",
            " 2   description   540455 non-null  object \n",
            " 3   quantity      541909 non-null  int64  \n",
            " 4   invoice_date  541909 non-null  object \n",
            " 5   unit_price    541909 non-null  float64\n",
            " 6   customer_id   406829 non-null  float64\n",
            " 7   country       541909 non-null  object \n",
            "dtypes: float64(2), int64(1), object(5)\n",
            "memory usage: 33.1+ MB\n"
          ]
        }
      ]
    },
    {
      "cell_type": "markdown",
      "metadata": {
        "id": "k4YwaXyHhJI9"
      },
      "source": [
        "The column related to the transaction date will be converted from 'object' (a simple string basically) to the very convenient date format \"date-time\" in pandas."
      ]
    },
    {
      "cell_type": "code",
      "metadata": {
        "id": "F2I8pVaWhDPu"
      },
      "source": [
        "df['invoice_date']=pd.to_datetime(df.invoice_date, format='%m/%d/%Y %H:%M')"
      ],
      "execution_count": 97,
      "outputs": []
    },
    {
      "cell_type": "markdown",
      "metadata": {
        "id": "oDw_yZsLhjf-"
      },
      "source": [
        "The description column will be converter into lower case."
      ]
    },
    {
      "cell_type": "code",
      "metadata": {
        "id": "osnUYY0HhDFP"
      },
      "source": [
        "df['description']=df.description.str.lower()"
      ],
      "execution_count": 98,
      "outputs": []
    },
    {
      "cell_type": "code",
      "metadata": {
        "id": "9Chf91r_hC7_",
        "colab": {
          "base_uri": "https://localhost:8080/",
          "height": 514
        },
        "outputId": "d966ab9b-0e65-4092-e164-075c9557ea5a"
      },
      "source": [
        "df.head(15)"
      ],
      "execution_count": 99,
      "outputs": [
        {
          "output_type": "execute_result",
          "data": {
            "text/html": [
              "<div>\n",
              "<style scoped>\n",
              "    .dataframe tbody tr th:only-of-type {\n",
              "        vertical-align: middle;\n",
              "    }\n",
              "\n",
              "    .dataframe tbody tr th {\n",
              "        vertical-align: top;\n",
              "    }\n",
              "\n",
              "    .dataframe thead th {\n",
              "        text-align: right;\n",
              "    }\n",
              "</style>\n",
              "<table border=\"1\" class=\"dataframe\">\n",
              "  <thead>\n",
              "    <tr style=\"text-align: right;\">\n",
              "      <th></th>\n",
              "      <th>invoice_num</th>\n",
              "      <th>stock_code</th>\n",
              "      <th>description</th>\n",
              "      <th>quantity</th>\n",
              "      <th>invoice_date</th>\n",
              "      <th>unit_price</th>\n",
              "      <th>customer_id</th>\n",
              "      <th>country</th>\n",
              "    </tr>\n",
              "  </thead>\n",
              "  <tbody>\n",
              "    <tr>\n",
              "      <th>0</th>\n",
              "      <td>536365</td>\n",
              "      <td>85123A</td>\n",
              "      <td>white hanging heart t-light holder</td>\n",
              "      <td>6</td>\n",
              "      <td>2010-12-01 08:26:00</td>\n",
              "      <td>2.55</td>\n",
              "      <td>17850.0</td>\n",
              "      <td>United Kingdom</td>\n",
              "    </tr>\n",
              "    <tr>\n",
              "      <th>1</th>\n",
              "      <td>536365</td>\n",
              "      <td>71053</td>\n",
              "      <td>white metal lantern</td>\n",
              "      <td>6</td>\n",
              "      <td>2010-12-01 08:26:00</td>\n",
              "      <td>3.39</td>\n",
              "      <td>17850.0</td>\n",
              "      <td>United Kingdom</td>\n",
              "    </tr>\n",
              "    <tr>\n",
              "      <th>2</th>\n",
              "      <td>536365</td>\n",
              "      <td>84406B</td>\n",
              "      <td>cream cupid hearts coat hanger</td>\n",
              "      <td>8</td>\n",
              "      <td>2010-12-01 08:26:00</td>\n",
              "      <td>2.75</td>\n",
              "      <td>17850.0</td>\n",
              "      <td>United Kingdom</td>\n",
              "    </tr>\n",
              "    <tr>\n",
              "      <th>3</th>\n",
              "      <td>536365</td>\n",
              "      <td>84029G</td>\n",
              "      <td>knitted union flag hot water bottle</td>\n",
              "      <td>6</td>\n",
              "      <td>2010-12-01 08:26:00</td>\n",
              "      <td>3.39</td>\n",
              "      <td>17850.0</td>\n",
              "      <td>United Kingdom</td>\n",
              "    </tr>\n",
              "    <tr>\n",
              "      <th>4</th>\n",
              "      <td>536365</td>\n",
              "      <td>84029E</td>\n",
              "      <td>red woolly hottie white heart.</td>\n",
              "      <td>6</td>\n",
              "      <td>2010-12-01 08:26:00</td>\n",
              "      <td>3.39</td>\n",
              "      <td>17850.0</td>\n",
              "      <td>United Kingdom</td>\n",
              "    </tr>\n",
              "    <tr>\n",
              "      <th>5</th>\n",
              "      <td>536365</td>\n",
              "      <td>22752</td>\n",
              "      <td>set 7 babushka nesting boxes</td>\n",
              "      <td>2</td>\n",
              "      <td>2010-12-01 08:26:00</td>\n",
              "      <td>7.65</td>\n",
              "      <td>17850.0</td>\n",
              "      <td>United Kingdom</td>\n",
              "    </tr>\n",
              "    <tr>\n",
              "      <th>6</th>\n",
              "      <td>536365</td>\n",
              "      <td>21730</td>\n",
              "      <td>glass star frosted t-light holder</td>\n",
              "      <td>6</td>\n",
              "      <td>2010-12-01 08:26:00</td>\n",
              "      <td>4.25</td>\n",
              "      <td>17850.0</td>\n",
              "      <td>United Kingdom</td>\n",
              "    </tr>\n",
              "    <tr>\n",
              "      <th>7</th>\n",
              "      <td>536366</td>\n",
              "      <td>22633</td>\n",
              "      <td>hand warmer union jack</td>\n",
              "      <td>6</td>\n",
              "      <td>2010-12-01 08:28:00</td>\n",
              "      <td>1.85</td>\n",
              "      <td>17850.0</td>\n",
              "      <td>United Kingdom</td>\n",
              "    </tr>\n",
              "    <tr>\n",
              "      <th>8</th>\n",
              "      <td>536366</td>\n",
              "      <td>22632</td>\n",
              "      <td>hand warmer red polka dot</td>\n",
              "      <td>6</td>\n",
              "      <td>2010-12-01 08:28:00</td>\n",
              "      <td>1.85</td>\n",
              "      <td>17850.0</td>\n",
              "      <td>United Kingdom</td>\n",
              "    </tr>\n",
              "    <tr>\n",
              "      <th>9</th>\n",
              "      <td>536367</td>\n",
              "      <td>84879</td>\n",
              "      <td>assorted colour bird ornament</td>\n",
              "      <td>32</td>\n",
              "      <td>2010-12-01 08:34:00</td>\n",
              "      <td>1.69</td>\n",
              "      <td>13047.0</td>\n",
              "      <td>United Kingdom</td>\n",
              "    </tr>\n",
              "    <tr>\n",
              "      <th>10</th>\n",
              "      <td>536367</td>\n",
              "      <td>22745</td>\n",
              "      <td>poppy's playhouse bedroom</td>\n",
              "      <td>6</td>\n",
              "      <td>2010-12-01 08:34:00</td>\n",
              "      <td>2.10</td>\n",
              "      <td>13047.0</td>\n",
              "      <td>United Kingdom</td>\n",
              "    </tr>\n",
              "    <tr>\n",
              "      <th>11</th>\n",
              "      <td>536367</td>\n",
              "      <td>22748</td>\n",
              "      <td>poppy's playhouse kitchen</td>\n",
              "      <td>6</td>\n",
              "      <td>2010-12-01 08:34:00</td>\n",
              "      <td>2.10</td>\n",
              "      <td>13047.0</td>\n",
              "      <td>United Kingdom</td>\n",
              "    </tr>\n",
              "    <tr>\n",
              "      <th>12</th>\n",
              "      <td>536367</td>\n",
              "      <td>22749</td>\n",
              "      <td>feltcraft princess charlotte doll</td>\n",
              "      <td>8</td>\n",
              "      <td>2010-12-01 08:34:00</td>\n",
              "      <td>3.75</td>\n",
              "      <td>13047.0</td>\n",
              "      <td>United Kingdom</td>\n",
              "    </tr>\n",
              "    <tr>\n",
              "      <th>13</th>\n",
              "      <td>536367</td>\n",
              "      <td>22310</td>\n",
              "      <td>ivory knitted mug cosy</td>\n",
              "      <td>6</td>\n",
              "      <td>2010-12-01 08:34:00</td>\n",
              "      <td>1.65</td>\n",
              "      <td>13047.0</td>\n",
              "      <td>United Kingdom</td>\n",
              "    </tr>\n",
              "    <tr>\n",
              "      <th>14</th>\n",
              "      <td>536367</td>\n",
              "      <td>84969</td>\n",
              "      <td>box of 6 assorted colour teaspoons</td>\n",
              "      <td>6</td>\n",
              "      <td>2010-12-01 08:34:00</td>\n",
              "      <td>4.25</td>\n",
              "      <td>13047.0</td>\n",
              "      <td>United Kingdom</td>\n",
              "    </tr>\n",
              "  </tbody>\n",
              "</table>\n",
              "</div>"
            ],
            "text/plain": [
              "   invoice_num stock_code  ... customer_id         country\n",
              "0       536365     85123A  ...     17850.0  United Kingdom\n",
              "1       536365      71053  ...     17850.0  United Kingdom\n",
              "2       536365     84406B  ...     17850.0  United Kingdom\n",
              "3       536365     84029G  ...     17850.0  United Kingdom\n",
              "4       536365     84029E  ...     17850.0  United Kingdom\n",
              "5       536365      22752  ...     17850.0  United Kingdom\n",
              "6       536365      21730  ...     17850.0  United Kingdom\n",
              "7       536366      22633  ...     17850.0  United Kingdom\n",
              "8       536366      22632  ...     17850.0  United Kingdom\n",
              "9       536367      84879  ...     13047.0  United Kingdom\n",
              "10      536367      22745  ...     13047.0  United Kingdom\n",
              "11      536367      22748  ...     13047.0  United Kingdom\n",
              "12      536367      22749  ...     13047.0  United Kingdom\n",
              "13      536367      22310  ...     13047.0  United Kingdom\n",
              "14      536367      84969  ...     13047.0  United Kingdom\n",
              "\n",
              "[15 rows x 8 columns]"
            ]
          },
          "metadata": {},
          "execution_count": 99
        }
      ]
    },
    {
      "cell_type": "markdown",
      "metadata": {
        "id": "me00IW-Ch9i3"
      },
      "source": [
        "## Checking null values"
      ]
    },
    {
      "cell_type": "code",
      "metadata": {
        "id": "vIUB03hgiBrn",
        "colab": {
          "base_uri": "https://localhost:8080/"
        },
        "outputId": "ad5d8a4a-04a5-47fe-980f-f1d0bbebc150"
      },
      "source": [
        "df.info()"
      ],
      "execution_count": 100,
      "outputs": [
        {
          "output_type": "stream",
          "name": "stdout",
          "text": [
            "<class 'pandas.core.frame.DataFrame'>\n",
            "RangeIndex: 541909 entries, 0 to 541908\n",
            "Data columns (total 8 columns):\n",
            " #   Column        Non-Null Count   Dtype         \n",
            "---  ------        --------------   -----         \n",
            " 0   invoice_num   541909 non-null  object        \n",
            " 1   stock_code    541909 non-null  object        \n",
            " 2   description   540455 non-null  object        \n",
            " 3   quantity      541909 non-null  int64         \n",
            " 4   invoice_date  541909 non-null  datetime64[ns]\n",
            " 5   unit_price    541909 non-null  float64       \n",
            " 6   customer_id   406829 non-null  float64       \n",
            " 7   country       541909 non-null  object        \n",
            "dtypes: datetime64[ns](1), float64(2), int64(1), object(4)\n",
            "memory usage: 33.1+ MB\n"
          ]
        }
      ]
    },
    {
      "cell_type": "markdown",
      "metadata": {
        "id": "-876zyjHjWQ-"
      },
      "source": [
        "There are some null values for description and customer id.\n",
        "The number of missing values in each column is:"
      ]
    },
    {
      "cell_type": "code",
      "metadata": {
        "id": "UY909287iCJX",
        "colab": {
          "base_uri": "https://localhost:8080/"
        },
        "outputId": "420f1930-ca24-4de3-fb89-47c6695b6b9c"
      },
      "source": [
        "df.isnull().sum().sort_values(ascending=False)"
      ],
      "execution_count": 101,
      "outputs": [
        {
          "output_type": "execute_result",
          "data": {
            "text/plain": [
              "customer_id     135080\n",
              "description       1454\n",
              "country              0\n",
              "unit_price           0\n",
              "invoice_date         0\n",
              "quantity             0\n",
              "stock_code           0\n",
              "invoice_num          0\n",
              "dtype: int64"
            ]
          },
          "metadata": {},
          "execution_count": 101
        }
      ]
    },
    {
      "cell_type": "markdown",
      "metadata": {
        "id": "DeJYYSsgjwH-"
      },
      "source": [
        "The portion of dataframe where some values are missing is the following:"
      ]
    },
    {
      "cell_type": "code",
      "metadata": {
        "id": "Q3FvRN6ejgAV",
        "colab": {
          "base_uri": "https://localhost:8080/",
          "height": 204
        },
        "outputId": "73a755c2-6851-4531-f52a-6d3be6dc2f60"
      },
      "source": [
        "df_miss=df[df.isnull().any(axis=1)]\n",
        "df_miss.head()"
      ],
      "execution_count": 102,
      "outputs": [
        {
          "output_type": "execute_result",
          "data": {
            "text/html": [
              "<div>\n",
              "<style scoped>\n",
              "    .dataframe tbody tr th:only-of-type {\n",
              "        vertical-align: middle;\n",
              "    }\n",
              "\n",
              "    .dataframe tbody tr th {\n",
              "        vertical-align: top;\n",
              "    }\n",
              "\n",
              "    .dataframe thead th {\n",
              "        text-align: right;\n",
              "    }\n",
              "</style>\n",
              "<table border=\"1\" class=\"dataframe\">\n",
              "  <thead>\n",
              "    <tr style=\"text-align: right;\">\n",
              "      <th></th>\n",
              "      <th>invoice_num</th>\n",
              "      <th>stock_code</th>\n",
              "      <th>description</th>\n",
              "      <th>quantity</th>\n",
              "      <th>invoice_date</th>\n",
              "      <th>unit_price</th>\n",
              "      <th>customer_id</th>\n",
              "      <th>country</th>\n",
              "    </tr>\n",
              "  </thead>\n",
              "  <tbody>\n",
              "    <tr>\n",
              "      <th>622</th>\n",
              "      <td>536414</td>\n",
              "      <td>22139</td>\n",
              "      <td>NaN</td>\n",
              "      <td>56</td>\n",
              "      <td>2010-12-01 11:52:00</td>\n",
              "      <td>0.00</td>\n",
              "      <td>NaN</td>\n",
              "      <td>United Kingdom</td>\n",
              "    </tr>\n",
              "    <tr>\n",
              "      <th>1443</th>\n",
              "      <td>536544</td>\n",
              "      <td>21773</td>\n",
              "      <td>decorative rose bathroom bottle</td>\n",
              "      <td>1</td>\n",
              "      <td>2010-12-01 14:32:00</td>\n",
              "      <td>2.51</td>\n",
              "      <td>NaN</td>\n",
              "      <td>United Kingdom</td>\n",
              "    </tr>\n",
              "    <tr>\n",
              "      <th>1444</th>\n",
              "      <td>536544</td>\n",
              "      <td>21774</td>\n",
              "      <td>decorative cats bathroom bottle</td>\n",
              "      <td>2</td>\n",
              "      <td>2010-12-01 14:32:00</td>\n",
              "      <td>2.51</td>\n",
              "      <td>NaN</td>\n",
              "      <td>United Kingdom</td>\n",
              "    </tr>\n",
              "    <tr>\n",
              "      <th>1445</th>\n",
              "      <td>536544</td>\n",
              "      <td>21786</td>\n",
              "      <td>polkadot rain hat</td>\n",
              "      <td>4</td>\n",
              "      <td>2010-12-01 14:32:00</td>\n",
              "      <td>0.85</td>\n",
              "      <td>NaN</td>\n",
              "      <td>United Kingdom</td>\n",
              "    </tr>\n",
              "    <tr>\n",
              "      <th>1446</th>\n",
              "      <td>536544</td>\n",
              "      <td>21787</td>\n",
              "      <td>rain poncho retrospot</td>\n",
              "      <td>2</td>\n",
              "      <td>2010-12-01 14:32:00</td>\n",
              "      <td>1.66</td>\n",
              "      <td>NaN</td>\n",
              "      <td>United Kingdom</td>\n",
              "    </tr>\n",
              "  </tbody>\n",
              "</table>\n",
              "</div>"
            ],
            "text/plain": [
              "     invoice_num stock_code  ... customer_id         country\n",
              "622       536414      22139  ...         NaN  United Kingdom\n",
              "1443      536544      21773  ...         NaN  United Kingdom\n",
              "1444      536544      21774  ...         NaN  United Kingdom\n",
              "1445      536544      21786  ...         NaN  United Kingdom\n",
              "1446      536544      21787  ...         NaN  United Kingdom\n",
              "\n",
              "[5 rows x 8 columns]"
            ]
          },
          "metadata": {},
          "execution_count": 102
        }
      ]
    },
    {
      "cell_type": "markdown",
      "metadata": {
        "id": "865yMirEpKCg"
      },
      "source": [
        "## Is there any relationship between the missing data?"
      ]
    },
    {
      "cell_type": "code",
      "metadata": {
        "id": "9SRwt7wyjf9V",
        "colab": {
          "base_uri": "https://localhost:8080/"
        },
        "outputId": "ceff7ec0-bd70-4f77-f284-f154a3f348de"
      },
      "source": [
        "df_miss[\"day\"] = df_miss['invoice_date'].map(lambda x: x.day)\n",
        "df_miss[\"month\"] = df_miss['invoice_date'].map(lambda x: x.month)\n",
        "df_miss[\"year\"] = df_miss['invoice_date'].map(lambda x: x.year)"
      ],
      "execution_count": 103,
      "outputs": [
        {
          "output_type": "stream",
          "name": "stderr",
          "text": [
            "/usr/local/lib/python3.7/dist-packages/ipykernel_launcher.py:1: SettingWithCopyWarning: \n",
            "A value is trying to be set on a copy of a slice from a DataFrame.\n",
            "Try using .loc[row_indexer,col_indexer] = value instead\n",
            "\n",
            "See the caveats in the documentation: https://pandas.pydata.org/pandas-docs/stable/user_guide/indexing.html#returning-a-view-versus-a-copy\n",
            "  \"\"\"Entry point for launching an IPython kernel.\n",
            "/usr/local/lib/python3.7/dist-packages/ipykernel_launcher.py:2: SettingWithCopyWarning: \n",
            "A value is trying to be set on a copy of a slice from a DataFrame.\n",
            "Try using .loc[row_indexer,col_indexer] = value instead\n",
            "\n",
            "See the caveats in the documentation: https://pandas.pydata.org/pandas-docs/stable/user_guide/indexing.html#returning-a-view-versus-a-copy\n",
            "  \n",
            "/usr/local/lib/python3.7/dist-packages/ipykernel_launcher.py:3: SettingWithCopyWarning: \n",
            "A value is trying to be set on a copy of a slice from a DataFrame.\n",
            "Try using .loc[row_indexer,col_indexer] = value instead\n",
            "\n",
            "See the caveats in the documentation: https://pandas.pydata.org/pandas-docs/stable/user_guide/indexing.html#returning-a-view-versus-a-copy\n",
            "  This is separate from the ipykernel package so we can avoid doing imports until\n"
          ]
        }
      ]
    },
    {
      "cell_type": "code",
      "metadata": {
        "id": "7Fsgbrchjf41",
        "colab": {
          "base_uri": "https://localhost:8080/"
        },
        "outputId": "240972a9-a7cf-425f-a860-b5678680c3f2"
      },
      "source": [
        "df_miss['daymonth']=df_miss['day'].astype(str)+'/'+df_miss['month'].astype(str)\n",
        "df_miss['daymonthyear']=df_miss['daymonth'].astype(str)+'/'+df_miss['year'].astype(str)\n",
        "df_miss['monthyear']=df_miss['month'].astype(str)+'/'+df_miss['year'].astype(str)"
      ],
      "execution_count": 104,
      "outputs": [
        {
          "output_type": "stream",
          "name": "stderr",
          "text": [
            "/usr/local/lib/python3.7/dist-packages/ipykernel_launcher.py:1: SettingWithCopyWarning: \n",
            "A value is trying to be set on a copy of a slice from a DataFrame.\n",
            "Try using .loc[row_indexer,col_indexer] = value instead\n",
            "\n",
            "See the caveats in the documentation: https://pandas.pydata.org/pandas-docs/stable/user_guide/indexing.html#returning-a-view-versus-a-copy\n",
            "  \"\"\"Entry point for launching an IPython kernel.\n",
            "/usr/local/lib/python3.7/dist-packages/ipykernel_launcher.py:2: SettingWithCopyWarning: \n",
            "A value is trying to be set on a copy of a slice from a DataFrame.\n",
            "Try using .loc[row_indexer,col_indexer] = value instead\n",
            "\n",
            "See the caveats in the documentation: https://pandas.pydata.org/pandas-docs/stable/user_guide/indexing.html#returning-a-view-versus-a-copy\n",
            "  \n",
            "/usr/local/lib/python3.7/dist-packages/ipykernel_launcher.py:3: SettingWithCopyWarning: \n",
            "A value is trying to be set on a copy of a slice from a DataFrame.\n",
            "Try using .loc[row_indexer,col_indexer] = value instead\n",
            "\n",
            "See the caveats in the documentation: https://pandas.pydata.org/pandas-docs/stable/user_guide/indexing.html#returning-a-view-versus-a-copy\n",
            "  This is separate from the ipykernel package so we can avoid doing imports until\n"
          ]
        }
      ]
    },
    {
      "cell_type": "code",
      "metadata": {
        "id": "lFV__Ikljfy-",
        "colab": {
          "base_uri": "https://localhost:8080/",
          "height": 204
        },
        "outputId": "d7aaced0-8ae7-455a-a287-46abc8b7d5f6"
      },
      "source": [
        "df_miss.head()"
      ],
      "execution_count": 105,
      "outputs": [
        {
          "output_type": "execute_result",
          "data": {
            "text/html": [
              "<div>\n",
              "<style scoped>\n",
              "    .dataframe tbody tr th:only-of-type {\n",
              "        vertical-align: middle;\n",
              "    }\n",
              "\n",
              "    .dataframe tbody tr th {\n",
              "        vertical-align: top;\n",
              "    }\n",
              "\n",
              "    .dataframe thead th {\n",
              "        text-align: right;\n",
              "    }\n",
              "</style>\n",
              "<table border=\"1\" class=\"dataframe\">\n",
              "  <thead>\n",
              "    <tr style=\"text-align: right;\">\n",
              "      <th></th>\n",
              "      <th>invoice_num</th>\n",
              "      <th>stock_code</th>\n",
              "      <th>description</th>\n",
              "      <th>quantity</th>\n",
              "      <th>invoice_date</th>\n",
              "      <th>unit_price</th>\n",
              "      <th>customer_id</th>\n",
              "      <th>country</th>\n",
              "      <th>day</th>\n",
              "      <th>month</th>\n",
              "      <th>year</th>\n",
              "      <th>daymonth</th>\n",
              "      <th>daymonthyear</th>\n",
              "      <th>monthyear</th>\n",
              "    </tr>\n",
              "  </thead>\n",
              "  <tbody>\n",
              "    <tr>\n",
              "      <th>622</th>\n",
              "      <td>536414</td>\n",
              "      <td>22139</td>\n",
              "      <td>NaN</td>\n",
              "      <td>56</td>\n",
              "      <td>2010-12-01 11:52:00</td>\n",
              "      <td>0.00</td>\n",
              "      <td>NaN</td>\n",
              "      <td>United Kingdom</td>\n",
              "      <td>1</td>\n",
              "      <td>12</td>\n",
              "      <td>2010</td>\n",
              "      <td>1/12</td>\n",
              "      <td>1/12/2010</td>\n",
              "      <td>12/2010</td>\n",
              "    </tr>\n",
              "    <tr>\n",
              "      <th>1443</th>\n",
              "      <td>536544</td>\n",
              "      <td>21773</td>\n",
              "      <td>decorative rose bathroom bottle</td>\n",
              "      <td>1</td>\n",
              "      <td>2010-12-01 14:32:00</td>\n",
              "      <td>2.51</td>\n",
              "      <td>NaN</td>\n",
              "      <td>United Kingdom</td>\n",
              "      <td>1</td>\n",
              "      <td>12</td>\n",
              "      <td>2010</td>\n",
              "      <td>1/12</td>\n",
              "      <td>1/12/2010</td>\n",
              "      <td>12/2010</td>\n",
              "    </tr>\n",
              "    <tr>\n",
              "      <th>1444</th>\n",
              "      <td>536544</td>\n",
              "      <td>21774</td>\n",
              "      <td>decorative cats bathroom bottle</td>\n",
              "      <td>2</td>\n",
              "      <td>2010-12-01 14:32:00</td>\n",
              "      <td>2.51</td>\n",
              "      <td>NaN</td>\n",
              "      <td>United Kingdom</td>\n",
              "      <td>1</td>\n",
              "      <td>12</td>\n",
              "      <td>2010</td>\n",
              "      <td>1/12</td>\n",
              "      <td>1/12/2010</td>\n",
              "      <td>12/2010</td>\n",
              "    </tr>\n",
              "    <tr>\n",
              "      <th>1445</th>\n",
              "      <td>536544</td>\n",
              "      <td>21786</td>\n",
              "      <td>polkadot rain hat</td>\n",
              "      <td>4</td>\n",
              "      <td>2010-12-01 14:32:00</td>\n",
              "      <td>0.85</td>\n",
              "      <td>NaN</td>\n",
              "      <td>United Kingdom</td>\n",
              "      <td>1</td>\n",
              "      <td>12</td>\n",
              "      <td>2010</td>\n",
              "      <td>1/12</td>\n",
              "      <td>1/12/2010</td>\n",
              "      <td>12/2010</td>\n",
              "    </tr>\n",
              "    <tr>\n",
              "      <th>1446</th>\n",
              "      <td>536544</td>\n",
              "      <td>21787</td>\n",
              "      <td>rain poncho retrospot</td>\n",
              "      <td>2</td>\n",
              "      <td>2010-12-01 14:32:00</td>\n",
              "      <td>1.66</td>\n",
              "      <td>NaN</td>\n",
              "      <td>United Kingdom</td>\n",
              "      <td>1</td>\n",
              "      <td>12</td>\n",
              "      <td>2010</td>\n",
              "      <td>1/12</td>\n",
              "      <td>1/12/2010</td>\n",
              "      <td>12/2010</td>\n",
              "    </tr>\n",
              "  </tbody>\n",
              "</table>\n",
              "</div>"
            ],
            "text/plain": [
              "     invoice_num stock_code  ... daymonthyear  monthyear\n",
              "622       536414      22139  ...    1/12/2010    12/2010\n",
              "1443      536544      21773  ...    1/12/2010    12/2010\n",
              "1444      536544      21774  ...    1/12/2010    12/2010\n",
              "1445      536544      21786  ...    1/12/2010    12/2010\n",
              "1446      536544      21787  ...    1/12/2010    12/2010\n",
              "\n",
              "[5 rows x 14 columns]"
            ]
          },
          "metadata": {},
          "execution_count": 105
        }
      ]
    },
    {
      "cell_type": "code",
      "metadata": {
        "id": "a0CylY5jqjTn",
        "colab": {
          "base_uri": "https://localhost:8080/",
          "height": 436
        },
        "outputId": "0f89dfa4-f21c-4671-fc82-6099cfdaf196"
      },
      "source": [
        "fig, ax = plt.subplots(figsize=(20,6)) \n",
        "ax = sns.countplot(x='daymonthyear', data=df_miss)\n",
        "ax.set_xticklabels(ax.get_xticklabels(),rotation = 90);"
      ],
      "execution_count": 106,
      "outputs": [
        {
          "output_type": "display_data",
          "data": {
            "image/png": "[encoded data removed]",
            "text/plain": [
              "<Figure size 1440x432 with 1 Axes>"
            ]
          },
          "metadata": {
            "needs_background": "light"
          }
        }
      ]
    },
    {
      "cell_type": "markdown",
      "metadata": {
        "id": "duU-6T1CqrrY"
      },
      "source": [
        "This plot looks messy, but its clear that during some days there have been more missing values than others.\n",
        "In particular the days with most missing values are:"
      ]
    },
    {
      "cell_type": "code",
      "metadata": {
        "id": "tybULrHaqtb_",
        "colab": {
          "base_uri": "https://localhost:8080/",
          "height": 386
        },
        "outputId": "b789fa26-51c7-436b-f00b-4693208e30d1"
      },
      "source": [
        "sns.displot(df_miss['daymonthyear'].value_counts())"
      ],
      "execution_count": 107,
      "outputs": [
        {
          "output_type": "execute_result",
          "data": {
            "text/plain": [
              "<seaborn.axisgrid.FacetGrid at 0x7f479705ead0>"
            ]
          },
          "metadata": {},
          "execution_count": 107
        },
        {
          "output_type": "display_data",
          "data": {
            "image/png": "[encoded data removed]",
            "text/plain": [
              "<Figure size 360x360 with 1 Axes>"
            ]
          },
          "metadata": {
            "needs_background": "light"
          }
        }
      ]
    },
    {
      "cell_type": "markdown",
      "metadata": {
        "id": "yq4usaDMqxfP"
      },
      "source": [
        "We can see that during some days, more than 2500 customers_id are missing. We will now check the days where most cusomers id are missing."
      ]
    },
    {
      "cell_type": "code",
      "metadata": {
        "id": "Hr7ZX8FgqtZH",
        "colab": {
          "base_uri": "https://localhost:8080/"
        },
        "outputId": "ca8a82dd-e12b-4e78-dd4d-fb59bd8c42e4"
      },
      "source": [
        "df_miss['daymonthyear'].value_counts()[:20]"
      ],
      "execution_count": 108,
      "outputs": [
        {
          "output_type": "execute_result",
          "data": {
            "text/plain": [
              "30/8/2011     2829\n",
              "17/12/2010    2384\n",
              "8/12/2011     2341\n",
              "5/12/2011     1933\n",
              "6/12/2010     1904\n",
              "7/12/2010     1830\n",
              "18/4/2011     1719\n",
              "8/11/2011     1671\n",
              "11/11/2011    1656\n",
              "17/1/2011     1591\n",
              "29/11/2011    1577\n",
              "31/10/2011    1576\n",
              "16/11/2011    1423\n",
              "25/11/2011    1400\n",
              "5/7/2011      1375\n",
              "21/9/2011     1338\n",
              "10/12/2010    1309\n",
              "24/11/2011    1293\n",
              "30/11/2011    1259\n",
              "4/7/2011      1256\n",
              "Name: daymonthyear, dtype: int64"
            ]
          },
          "metadata": {},
          "execution_count": 108
        }
      ]
    },
    {
      "cell_type": "markdown",
      "metadata": {
        "id": "LGs_KsXHq_Ku"
      },
      "source": [
        "It could be interesting to check if during these days something happend and caused the missing values.\n",
        "\n",
        "---\n",
        "\n",
        "For further analysis, the rows with missing values will be dropped and a new df called 'df_new' will be defined"
      ]
    },
    {
      "cell_type": "code",
      "metadata": {
        "id": "_tCW7cvyqtUv"
      },
      "source": [
        "df_new=df.dropna()"
      ],
      "execution_count": 109,
      "outputs": []
    },
    {
      "cell_type": "code",
      "metadata": {
        "id": "exnOddAFqtMv",
        "colab": {
          "base_uri": "https://localhost:8080/"
        },
        "outputId": "6d45ff88-d8b4-41ed-f467-849150eee2a5"
      },
      "source": [
        "#check if there a are missing values in the new dataframe\n",
        "df_new.isnull().sum().sort_values(ascending=False)"
      ],
      "execution_count": 110,
      "outputs": [
        {
          "output_type": "execute_result",
          "data": {
            "text/plain": [
              "country         0\n",
              "customer_id     0\n",
              "unit_price      0\n",
              "invoice_date    0\n",
              "quantity        0\n",
              "description     0\n",
              "stock_code      0\n",
              "invoice_num     0\n",
              "dtype: int64"
            ]
          },
          "metadata": {},
          "execution_count": 110
        }
      ]
    },
    {
      "cell_type": "code",
      "metadata": {
        "id": "oWIQtYHSqsxX",
        "colab": {
          "base_uri": "https://localhost:8080/"
        },
        "outputId": "36ddc788-7895-43c5-f8c7-ec9d052e3068"
      },
      "source": [
        "df_new.info()"
      ],
      "execution_count": 111,
      "outputs": [
        {
          "output_type": "stream",
          "name": "stdout",
          "text": [
            "<class 'pandas.core.frame.DataFrame'>\n",
            "Int64Index: 406829 entries, 0 to 541908\n",
            "Data columns (total 8 columns):\n",
            " #   Column        Non-Null Count   Dtype         \n",
            "---  ------        --------------   -----         \n",
            " 0   invoice_num   406829 non-null  object        \n",
            " 1   stock_code    406829 non-null  object        \n",
            " 2   description   406829 non-null  object        \n",
            " 3   quantity      406829 non-null  int64         \n",
            " 4   invoice_date  406829 non-null  datetime64[ns]\n",
            " 5   unit_price    406829 non-null  float64       \n",
            " 6   customer_id   406829 non-null  float64       \n",
            " 7   country       406829 non-null  object        \n",
            "dtypes: datetime64[ns](1), float64(2), int64(1), object(4)\n",
            "memory usage: 27.9+ MB\n"
          ]
        }
      ]
    },
    {
      "cell_type": "markdown",
      "metadata": {
        "id": "8oKV4PN6rkf-"
      },
      "source": [
        "Now the dataframe does not have any missing values"
      ]
    },
    {
      "cell_type": "markdown",
      "metadata": {
        "id": "U7w9l60srqlf"
      },
      "source": [
        "## Duplicated Values handling"
      ]
    },
    {
      "cell_type": "code",
      "metadata": {
        "id": "ovyMNkigrmDu",
        "colab": {
          "base_uri": "https://localhost:8080/",
          "height": 204
        },
        "outputId": "1d0dd2f7-6c22-43f4-ce17-5cbc1c346853"
      },
      "source": [
        "df_new[df_new.duplicated()].head()"
      ],
      "execution_count": 112,
      "outputs": [
        {
          "output_type": "execute_result",
          "data": {
            "text/html": [
              "<div>\n",
              "<style scoped>\n",
              "    .dataframe tbody tr th:only-of-type {\n",
              "        vertical-align: middle;\n",
              "    }\n",
              "\n",
              "    .dataframe tbody tr th {\n",
              "        vertical-align: top;\n",
              "    }\n",
              "\n",
              "    .dataframe thead th {\n",
              "        text-align: right;\n",
              "    }\n",
              "</style>\n",
              "<table border=\"1\" class=\"dataframe\">\n",
              "  <thead>\n",
              "    <tr style=\"text-align: right;\">\n",
              "      <th></th>\n",
              "      <th>invoice_num</th>\n",
              "      <th>stock_code</th>\n",
              "      <th>description</th>\n",
              "      <th>quantity</th>\n",
              "      <th>invoice_date</th>\n",
              "      <th>unit_price</th>\n",
              "      <th>customer_id</th>\n",
              "      <th>country</th>\n",
              "    </tr>\n",
              "  </thead>\n",
              "  <tbody>\n",
              "    <tr>\n",
              "      <th>517</th>\n",
              "      <td>536409</td>\n",
              "      <td>21866</td>\n",
              "      <td>union jack flag luggage tag</td>\n",
              "      <td>1</td>\n",
              "      <td>2010-12-01 11:45:00</td>\n",
              "      <td>1.25</td>\n",
              "      <td>17908.0</td>\n",
              "      <td>United Kingdom</td>\n",
              "    </tr>\n",
              "    <tr>\n",
              "      <th>527</th>\n",
              "      <td>536409</td>\n",
              "      <td>22866</td>\n",
              "      <td>hand warmer scotty dog design</td>\n",
              "      <td>1</td>\n",
              "      <td>2010-12-01 11:45:00</td>\n",
              "      <td>2.10</td>\n",
              "      <td>17908.0</td>\n",
              "      <td>United Kingdom</td>\n",
              "    </tr>\n",
              "    <tr>\n",
              "      <th>537</th>\n",
              "      <td>536409</td>\n",
              "      <td>22900</td>\n",
              "      <td>set 2 tea towels i love london</td>\n",
              "      <td>1</td>\n",
              "      <td>2010-12-01 11:45:00</td>\n",
              "      <td>2.95</td>\n",
              "      <td>17908.0</td>\n",
              "      <td>United Kingdom</td>\n",
              "    </tr>\n",
              "    <tr>\n",
              "      <th>539</th>\n",
              "      <td>536409</td>\n",
              "      <td>22111</td>\n",
              "      <td>scottie dog hot water bottle</td>\n",
              "      <td>1</td>\n",
              "      <td>2010-12-01 11:45:00</td>\n",
              "      <td>4.95</td>\n",
              "      <td>17908.0</td>\n",
              "      <td>United Kingdom</td>\n",
              "    </tr>\n",
              "    <tr>\n",
              "      <th>555</th>\n",
              "      <td>536412</td>\n",
              "      <td>22327</td>\n",
              "      <td>round snack boxes set of 4 skulls</td>\n",
              "      <td>1</td>\n",
              "      <td>2010-12-01 11:49:00</td>\n",
              "      <td>2.95</td>\n",
              "      <td>17920.0</td>\n",
              "      <td>United Kingdom</td>\n",
              "    </tr>\n",
              "  </tbody>\n",
              "</table>\n",
              "</div>"
            ],
            "text/plain": [
              "    invoice_num stock_code  ... customer_id         country\n",
              "517      536409      21866  ...     17908.0  United Kingdom\n",
              "527      536409      22866  ...     17908.0  United Kingdom\n",
              "537      536409      22900  ...     17908.0  United Kingdom\n",
              "539      536409      22111  ...     17908.0  United Kingdom\n",
              "555      536412      22327  ...     17920.0  United Kingdom\n",
              "\n",
              "[5 rows x 8 columns]"
            ]
          },
          "metadata": {},
          "execution_count": 112
        }
      ]
    },
    {
      "cell_type": "code",
      "metadata": {
        "id": "kCrRSLKNrmBb",
        "colab": {
          "base_uri": "https://localhost:8080/"
        },
        "outputId": "debf1877-e1f0-460f-b701-b2fbd511477d"
      },
      "source": [
        "df_new.duplicated().sum()"
      ],
      "execution_count": 113,
      "outputs": [
        {
          "output_type": "execute_result",
          "data": {
            "text/plain": [
              "5225"
            ]
          },
          "metadata": {},
          "execution_count": 113
        }
      ]
    },
    {
      "cell_type": "markdown",
      "metadata": {
        "id": "b3EgSMxTuf58"
      },
      "source": [
        "There are 5225 duplicated transactions\n",
        "These transaction will be dropped from the dataset."
      ]
    },
    {
      "cell_type": "code",
      "metadata": {
        "id": "X3euANwOrl-u",
        "colab": {
          "base_uri": "https://localhost:8080/"
        },
        "outputId": "b1a105e9-e32f-484f-a73f-835eebc8673a"
      },
      "source": [
        "df_new.drop_duplicates(inplace=True)"
      ],
      "execution_count": 114,
      "outputs": [
        {
          "output_type": "stream",
          "name": "stderr",
          "text": [
            "/usr/local/lib/python3.7/dist-packages/ipykernel_launcher.py:1: SettingWithCopyWarning: \n",
            "A value is trying to be set on a copy of a slice from a DataFrame\n",
            "\n",
            "See the caveats in the documentation: https://pandas.pydata.org/pandas-docs/stable/user_guide/indexing.html#returning-a-view-versus-a-copy\n",
            "  \"\"\"Entry point for launching an IPython kernel.\n"
          ]
        }
      ]
    },
    {
      "cell_type": "code",
      "metadata": {
        "id": "L8K0U0O5rl8G",
        "colab": {
          "base_uri": "https://localhost:8080/"
        },
        "outputId": "c49b6954-77a1-4bd8-a24d-b7618a6b570c"
      },
      "source": [
        "df_new.duplicated().sum()"
      ],
      "execution_count": 115,
      "outputs": [
        {
          "output_type": "execute_result",
          "data": {
            "text/plain": [
              "0"
            ]
          },
          "metadata": {},
          "execution_count": 115
        }
      ]
    },
    {
      "cell_type": "markdown",
      "metadata": {
        "id": "qyrkk_pYuzo1"
      },
      "source": [
        "## Change columns type"
      ]
    },
    {
      "cell_type": "markdown",
      "metadata": {
        "id": "hnX34JLxvOQM"
      },
      "source": [
        "Next, the 'customer_id' column will be converted to 'int' from 'float' since customersID are integer numbers."
      ]
    },
    {
      "cell_type": "code",
      "metadata": {
        "id": "88pz3AySrlj3",
        "colab": {
          "base_uri": "https://localhost:8080/"
        },
        "outputId": "9f2042d4-3ae1-4a69-916a-4cc48dcb1009"
      },
      "source": [
        "df_new['customer_id']=df_new.customer_id.astype('int64')"
      ],
      "execution_count": 116,
      "outputs": [
        {
          "output_type": "stream",
          "name": "stderr",
          "text": [
            "/usr/local/lib/python3.7/dist-packages/ipykernel_launcher.py:1: SettingWithCopyWarning: \n",
            "A value is trying to be set on a copy of a slice from a DataFrame.\n",
            "Try using .loc[row_indexer,col_indexer] = value instead\n",
            "\n",
            "See the caveats in the documentation: https://pandas.pydata.org/pandas-docs/stable/user_guide/indexing.html#returning-a-view-versus-a-copy\n",
            "  \"\"\"Entry point for launching an IPython kernel.\n"
          ]
        }
      ]
    },
    {
      "cell_type": "code",
      "metadata": {
        "id": "x0sSQIqhvdoL",
        "colab": {
          "base_uri": "https://localhost:8080/",
          "height": 297
        },
        "outputId": "213cb6fd-9dc0-4b57-d9da-32d6fcff8cd7"
      },
      "source": [
        "df_new.describe()"
      ],
      "execution_count": 117,
      "outputs": [
        {
          "output_type": "execute_result",
          "data": {
            "text/html": [
              "<div>\n",
              "<style scoped>\n",
              "    .dataframe tbody tr th:only-of-type {\n",
              "        vertical-align: middle;\n",
              "    }\n",
              "\n",
              "    .dataframe tbody tr th {\n",
              "        vertical-align: top;\n",
              "    }\n",
              "\n",
              "    .dataframe thead th {\n",
              "        text-align: right;\n",
              "    }\n",
              "</style>\n",
              "<table border=\"1\" class=\"dataframe\">\n",
              "  <thead>\n",
              "    <tr style=\"text-align: right;\">\n",
              "      <th></th>\n",
              "      <th>quantity</th>\n",
              "      <th>unit_price</th>\n",
              "      <th>customer_id</th>\n",
              "    </tr>\n",
              "  </thead>\n",
              "  <tbody>\n",
              "    <tr>\n",
              "      <th>count</th>\n",
              "      <td>401604.000000</td>\n",
              "      <td>401604.000000</td>\n",
              "      <td>401604.000000</td>\n",
              "    </tr>\n",
              "    <tr>\n",
              "      <th>mean</th>\n",
              "      <td>12.183273</td>\n",
              "      <td>3.474064</td>\n",
              "      <td>15281.160818</td>\n",
              "    </tr>\n",
              "    <tr>\n",
              "      <th>std</th>\n",
              "      <td>250.283037</td>\n",
              "      <td>69.764035</td>\n",
              "      <td>1714.006089</td>\n",
              "    </tr>\n",
              "    <tr>\n",
              "      <th>min</th>\n",
              "      <td>-80995.000000</td>\n",
              "      <td>0.000000</td>\n",
              "      <td>12346.000000</td>\n",
              "    </tr>\n",
              "    <tr>\n",
              "      <th>25%</th>\n",
              "      <td>2.000000</td>\n",
              "      <td>1.250000</td>\n",
              "      <td>13939.000000</td>\n",
              "    </tr>\n",
              "    <tr>\n",
              "      <th>50%</th>\n",
              "      <td>5.000000</td>\n",
              "      <td>1.950000</td>\n",
              "      <td>15145.000000</td>\n",
              "    </tr>\n",
              "    <tr>\n",
              "      <th>75%</th>\n",
              "      <td>12.000000</td>\n",
              "      <td>3.750000</td>\n",
              "      <td>16784.000000</td>\n",
              "    </tr>\n",
              "    <tr>\n",
              "      <th>max</th>\n",
              "      <td>80995.000000</td>\n",
              "      <td>38970.000000</td>\n",
              "      <td>18287.000000</td>\n",
              "    </tr>\n",
              "  </tbody>\n",
              "</table>\n",
              "</div>"
            ],
            "text/plain": [
              "            quantity     unit_price    customer_id\n",
              "count  401604.000000  401604.000000  401604.000000\n",
              "mean       12.183273       3.474064   15281.160818\n",
              "std       250.283037      69.764035    1714.006089\n",
              "min    -80995.000000       0.000000   12346.000000\n",
              "25%         2.000000       1.250000   13939.000000\n",
              "50%         5.000000       1.950000   15145.000000\n",
              "75%        12.000000       3.750000   16784.000000\n",
              "max     80995.000000   38970.000000   18287.000000"
            ]
          },
          "metadata": {},
          "execution_count": 117
        }
      ]
    },
    {
      "cell_type": "markdown",
      "metadata": {
        "id": "wnwKISEKvi8b"
      },
      "source": [
        "Quantity has negative values and unit price has a minimum value of 0"
      ]
    },
    {
      "cell_type": "code",
      "metadata": {
        "id": "3m5JGC2Kve_r",
        "colab": {
          "base_uri": "https://localhost:8080/"
        },
        "outputId": "7bef2cda-5c97-4368-8111-a61d33ab8206"
      },
      "source": [
        "np.sum(df_new['quantity'] < 0)"
      ],
      "execution_count": 118,
      "outputs": [
        {
          "output_type": "execute_result",
          "data": {
            "text/plain": [
              "8872"
            ]
          },
          "metadata": {},
          "execution_count": 118
        }
      ]
    },
    {
      "cell_type": "markdown",
      "metadata": {
        "id": "4dQBY8Y1vtSS"
      },
      "source": [
        "There are 8872 transactions with negative quantity. We will investigate if they are related to canceled orders or mistakes."
      ]
    },
    {
      "cell_type": "markdown",
      "metadata": {
        "id": "ia3Is3dlvxgj"
      },
      "source": [
        "## Canceled orders analysis"
      ]
    },
    {
      "cell_type": "code",
      "metadata": {
        "id": "1tV0xvJjve9N",
        "colab": {
          "base_uri": "https://localhost:8080/",
          "height": 204
        },
        "outputId": "c8a6061d-b169-428e-8241-18771eddab23"
      },
      "source": [
        "canceled_orders = df_new[df_new['invoice_num'].apply(lambda x: x[0]=='C')]\n",
        "canceled_orders.head()"
      ],
      "execution_count": 119,
      "outputs": [
        {
          "output_type": "execute_result",
          "data": {
            "text/html": [
              "<div>\n",
              "<style scoped>\n",
              "    .dataframe tbody tr th:only-of-type {\n",
              "        vertical-align: middle;\n",
              "    }\n",
              "\n",
              "    .dataframe tbody tr th {\n",
              "        vertical-align: top;\n",
              "    }\n",
              "\n",
              "    .dataframe thead th {\n",
              "        text-align: right;\n",
              "    }\n",
              "</style>\n",
              "<table border=\"1\" class=\"dataframe\">\n",
              "  <thead>\n",
              "    <tr style=\"text-align: right;\">\n",
              "      <th></th>\n",
              "      <th>invoice_num</th>\n",
              "      <th>stock_code</th>\n",
              "      <th>description</th>\n",
              "      <th>quantity</th>\n",
              "      <th>invoice_date</th>\n",
              "      <th>unit_price</th>\n",
              "      <th>customer_id</th>\n",
              "      <th>country</th>\n",
              "    </tr>\n",
              "  </thead>\n",
              "  <tbody>\n",
              "    <tr>\n",
              "      <th>141</th>\n",
              "      <td>C536379</td>\n",
              "      <td>D</td>\n",
              "      <td>discount</td>\n",
              "      <td>-1</td>\n",
              "      <td>2010-12-01 09:41:00</td>\n",
              "      <td>27.50</td>\n",
              "      <td>14527</td>\n",
              "      <td>United Kingdom</td>\n",
              "    </tr>\n",
              "    <tr>\n",
              "      <th>154</th>\n",
              "      <td>C536383</td>\n",
              "      <td>35004C</td>\n",
              "      <td>set of 3 coloured  flying ducks</td>\n",
              "      <td>-1</td>\n",
              "      <td>2010-12-01 09:49:00</td>\n",
              "      <td>4.65</td>\n",
              "      <td>15311</td>\n",
              "      <td>United Kingdom</td>\n",
              "    </tr>\n",
              "    <tr>\n",
              "      <th>235</th>\n",
              "      <td>C536391</td>\n",
              "      <td>22556</td>\n",
              "      <td>plasters in tin circus parade</td>\n",
              "      <td>-12</td>\n",
              "      <td>2010-12-01 10:24:00</td>\n",
              "      <td>1.65</td>\n",
              "      <td>17548</td>\n",
              "      <td>United Kingdom</td>\n",
              "    </tr>\n",
              "    <tr>\n",
              "      <th>236</th>\n",
              "      <td>C536391</td>\n",
              "      <td>21984</td>\n",
              "      <td>pack of 12 pink paisley tissues</td>\n",
              "      <td>-24</td>\n",
              "      <td>2010-12-01 10:24:00</td>\n",
              "      <td>0.29</td>\n",
              "      <td>17548</td>\n",
              "      <td>United Kingdom</td>\n",
              "    </tr>\n",
              "    <tr>\n",
              "      <th>237</th>\n",
              "      <td>C536391</td>\n",
              "      <td>21983</td>\n",
              "      <td>pack of 12 blue paisley tissues</td>\n",
              "      <td>-24</td>\n",
              "      <td>2010-12-01 10:24:00</td>\n",
              "      <td>0.29</td>\n",
              "      <td>17548</td>\n",
              "      <td>United Kingdom</td>\n",
              "    </tr>\n",
              "  </tbody>\n",
              "</table>\n",
              "</div>"
            ],
            "text/plain": [
              "    invoice_num stock_code  ... customer_id         country\n",
              "141     C536379          D  ...       14527  United Kingdom\n",
              "154     C536383     35004C  ...       15311  United Kingdom\n",
              "235     C536391      22556  ...       17548  United Kingdom\n",
              "236     C536391      21984  ...       17548  United Kingdom\n",
              "237     C536391      21983  ...       17548  United Kingdom\n",
              "\n",
              "[5 rows x 8 columns]"
            ]
          },
          "metadata": {},
          "execution_count": 119
        }
      ]
    },
    {
      "cell_type": "markdown",
      "metadata": {
        "id": "J3Q2PM9mwuAi"
      },
      "source": [
        "By analyzing the first 5 values of the dataframe we can see that the quantity has a negative values, is this true for all canceled orders?"
      ]
    },
    {
      "cell_type": "code",
      "metadata": {
        "id": "64AgBbDgve6k",
        "colab": {
          "base_uri": "https://localhost:8080/"
        },
        "outputId": "587d6561-cc10-4574-cdfe-e15fa20c0a09"
      },
      "source": [
        "(canceled_orders['quantity'] < 0).sum()"
      ],
      "execution_count": 120,
      "outputs": [
        {
          "output_type": "execute_result",
          "data": {
            "text/plain": [
              "8872"
            ]
          },
          "metadata": {},
          "execution_count": 120
        }
      ]
    },
    {
      "cell_type": "markdown",
      "metadata": {
        "id": "A_VXZcF7w1oZ"
      },
      "source": [
        "Yes, as expetcted all the transactions with negative values are canceled orders."
      ]
    },
    {
      "cell_type": "code",
      "metadata": {
        "id": "M_8kvPA4ve1F",
        "colab": {
          "base_uri": "https://localhost:8080/"
        },
        "outputId": "4f774d64-1cd9-4979-eca5-4e3ea4155bda"
      },
      "source": [
        "print('The percentage of canceled orders is: {} %'.format(round(canceled_orders.shape[0]/df_new.shape[0]*100,2)))"
      ],
      "execution_count": 121,
      "outputs": [
        {
          "output_type": "stream",
          "name": "stdout",
          "text": [
            "The percentage of canceled orders is: 2.21 %\n"
          ]
        }
      ]
    },
    {
      "cell_type": "markdown",
      "metadata": {
        "id": "KMMNiCvpxLMB"
      },
      "source": [
        "Moreover, it looks like there are some discounts among the canceled orders. They will be analyzed as well."
      ]
    },
    {
      "cell_type": "markdown",
      "metadata": {
        "id": "LlZ134j0xOMC"
      },
      "source": [
        "## Discounts"
      ]
    },
    {
      "cell_type": "code",
      "metadata": {
        "id": "Xv39JB_PvexD",
        "colab": {
          "base_uri": "https://localhost:8080/",
          "height": 204
        },
        "outputId": "2fa5668c-5970-4db1-86a0-b537eb360b20"
      },
      "source": [
        "discounts = df_new[df_new['stock_code'].apply(lambda order: order=='D')]\n",
        "discounts.head()"
      ],
      "execution_count": 122,
      "outputs": [
        {
          "output_type": "execute_result",
          "data": {
            "text/html": [
              "<div>\n",
              "<style scoped>\n",
              "    .dataframe tbody tr th:only-of-type {\n",
              "        vertical-align: middle;\n",
              "    }\n",
              "\n",
              "    .dataframe tbody tr th {\n",
              "        vertical-align: top;\n",
              "    }\n",
              "\n",
              "    .dataframe thead th {\n",
              "        text-align: right;\n",
              "    }\n",
              "</style>\n",
              "<table border=\"1\" class=\"dataframe\">\n",
              "  <thead>\n",
              "    <tr style=\"text-align: right;\">\n",
              "      <th></th>\n",
              "      <th>invoice_num</th>\n",
              "      <th>stock_code</th>\n",
              "      <th>description</th>\n",
              "      <th>quantity</th>\n",
              "      <th>invoice_date</th>\n",
              "      <th>unit_price</th>\n",
              "      <th>customer_id</th>\n",
              "      <th>country</th>\n",
              "    </tr>\n",
              "  </thead>\n",
              "  <tbody>\n",
              "    <tr>\n",
              "      <th>141</th>\n",
              "      <td>C536379</td>\n",
              "      <td>D</td>\n",
              "      <td>discount</td>\n",
              "      <td>-1</td>\n",
              "      <td>2010-12-01 09:41:00</td>\n",
              "      <td>27.50</td>\n",
              "      <td>14527</td>\n",
              "      <td>United Kingdom</td>\n",
              "    </tr>\n",
              "    <tr>\n",
              "      <th>9038</th>\n",
              "      <td>C537164</td>\n",
              "      <td>D</td>\n",
              "      <td>discount</td>\n",
              "      <td>-1</td>\n",
              "      <td>2010-12-05 13:21:00</td>\n",
              "      <td>29.29</td>\n",
              "      <td>14527</td>\n",
              "      <td>United Kingdom</td>\n",
              "    </tr>\n",
              "    <tr>\n",
              "      <th>14498</th>\n",
              "      <td>C537597</td>\n",
              "      <td>D</td>\n",
              "      <td>discount</td>\n",
              "      <td>-1</td>\n",
              "      <td>2010-12-07 12:34:00</td>\n",
              "      <td>281.00</td>\n",
              "      <td>15498</td>\n",
              "      <td>United Kingdom</td>\n",
              "    </tr>\n",
              "    <tr>\n",
              "      <th>19392</th>\n",
              "      <td>C537857</td>\n",
              "      <td>D</td>\n",
              "      <td>discount</td>\n",
              "      <td>-1</td>\n",
              "      <td>2010-12-08 16:00:00</td>\n",
              "      <td>267.12</td>\n",
              "      <td>17340</td>\n",
              "      <td>United Kingdom</td>\n",
              "    </tr>\n",
              "    <tr>\n",
              "      <th>31134</th>\n",
              "      <td>C538897</td>\n",
              "      <td>D</td>\n",
              "      <td>discount</td>\n",
              "      <td>-1</td>\n",
              "      <td>2010-12-15 09:14:00</td>\n",
              "      <td>5.76</td>\n",
              "      <td>16422</td>\n",
              "      <td>United Kingdom</td>\n",
              "    </tr>\n",
              "  </tbody>\n",
              "</table>\n",
              "</div>"
            ],
            "text/plain": [
              "      invoice_num stock_code  ... customer_id         country\n",
              "141       C536379          D  ...       14527  United Kingdom\n",
              "9038      C537164          D  ...       14527  United Kingdom\n",
              "14498     C537597          D  ...       15498  United Kingdom\n",
              "19392     C537857          D  ...       17340  United Kingdom\n",
              "31134     C538897          D  ...       16422  United Kingdom\n",
              "\n",
              "[5 rows x 8 columns]"
            ]
          },
          "metadata": {},
          "execution_count": 122
        }
      ]
    },
    {
      "cell_type": "code",
      "metadata": {
        "id": "I5dhAyA9vepT",
        "colab": {
          "base_uri": "https://localhost:8080/"
        },
        "outputId": "a32da8b1-0344-44fd-c23c-b30aded920c9"
      },
      "source": [
        "discounts.shape"
      ],
      "execution_count": 123,
      "outputs": [
        {
          "output_type": "execute_result",
          "data": {
            "text/plain": [
              "(77, 8)"
            ]
          },
          "metadata": {},
          "execution_count": 123
        }
      ]
    },
    {
      "cell_type": "markdown",
      "metadata": {
        "id": "8FLV0amByUig"
      },
      "source": [
        "The company issued 77 discounts\n",
        "\n",
        "Are there other discounts in the original dataset?"
      ]
    },
    {
      "cell_type": "code",
      "metadata": {
        "id": "8BqyfSwpyOyk",
        "colab": {
          "base_uri": "https://localhost:8080/"
        },
        "outputId": "7773724d-0e7e-4981-9ea6-60f4fb62b666"
      },
      "source": [
        "df[df['stock_code'].apply(lambda order: order=='D')].shape[0]"
      ],
      "execution_count": 124,
      "outputs": [
        {
          "output_type": "execute_result",
          "data": {
            "text/plain": [
              "77"
            ]
          },
          "metadata": {},
          "execution_count": 124
        }
      ]
    },
    {
      "cell_type": "markdown",
      "metadata": {
        "id": "NkTfO7R4ypcZ"
      },
      "source": [
        "No, all the discounts are correctly included in the transactions with negative values\n",
        "\n",
        "Now, all the canceled orders will be dropped."
      ]
    },
    {
      "cell_type": "code",
      "metadata": {
        "id": "H6spS7uhyOv6",
        "colab": {
          "base_uri": "https://localhost:8080/",
          "height": 204
        },
        "outputId": "9799e952-68d0-44e2-88a3-79288b8bc285"
      },
      "source": [
        "df_new = df_new[df_new['quantity'] > 0]\n",
        "df_new.sort_values(by='stock_code', ascending=False, inplace=True)\n",
        "df_new.head()"
      ],
      "execution_count": 125,
      "outputs": [
        {
          "output_type": "execute_result",
          "data": {
            "text/html": [
              "<div>\n",
              "<style scoped>\n",
              "    .dataframe tbody tr th:only-of-type {\n",
              "        vertical-align: middle;\n",
              "    }\n",
              "\n",
              "    .dataframe tbody tr th {\n",
              "        vertical-align: top;\n",
              "    }\n",
              "\n",
              "    .dataframe thead th {\n",
              "        text-align: right;\n",
              "    }\n",
              "</style>\n",
              "<table border=\"1\" class=\"dataframe\">\n",
              "  <thead>\n",
              "    <tr style=\"text-align: right;\">\n",
              "      <th></th>\n",
              "      <th>invoice_num</th>\n",
              "      <th>stock_code</th>\n",
              "      <th>description</th>\n",
              "      <th>quantity</th>\n",
              "      <th>invoice_date</th>\n",
              "      <th>unit_price</th>\n",
              "      <th>customer_id</th>\n",
              "      <th>country</th>\n",
              "    </tr>\n",
              "  </thead>\n",
              "  <tbody>\n",
              "    <tr>\n",
              "      <th>299512</th>\n",
              "      <td>563100</td>\n",
              "      <td>POST</td>\n",
              "      <td>postage</td>\n",
              "      <td>6</td>\n",
              "      <td>2011-08-12 09:57:00</td>\n",
              "      <td>40.0</td>\n",
              "      <td>12381</td>\n",
              "      <td>Norway</td>\n",
              "    </tr>\n",
              "    <tr>\n",
              "      <th>224432</th>\n",
              "      <td>556526</td>\n",
              "      <td>POST</td>\n",
              "      <td>postage</td>\n",
              "      <td>1</td>\n",
              "      <td>2011-06-13 11:33:00</td>\n",
              "      <td>18.0</td>\n",
              "      <td>12732</td>\n",
              "      <td>France</td>\n",
              "    </tr>\n",
              "    <tr>\n",
              "      <th>186640</th>\n",
              "      <td>552874</td>\n",
              "      <td>POST</td>\n",
              "      <td>postage</td>\n",
              "      <td>7</td>\n",
              "      <td>2011-05-12 09:40:00</td>\n",
              "      <td>18.0</td>\n",
              "      <td>12621</td>\n",
              "      <td>Germany</td>\n",
              "    </tr>\n",
              "    <tr>\n",
              "      <th>103055</th>\n",
              "      <td>545051</td>\n",
              "      <td>POST</td>\n",
              "      <td>postage</td>\n",
              "      <td>1</td>\n",
              "      <td>2011-02-27 11:58:00</td>\n",
              "      <td>18.0</td>\n",
              "      <td>12599</td>\n",
              "      <td>France</td>\n",
              "    </tr>\n",
              "    <tr>\n",
              "      <th>477044</th>\n",
              "      <td>577046</td>\n",
              "      <td>POST</td>\n",
              "      <td>postage</td>\n",
              "      <td>7</td>\n",
              "      <td>2011-11-17 13:46:00</td>\n",
              "      <td>18.0</td>\n",
              "      <td>12449</td>\n",
              "      <td>Belgium</td>\n",
              "    </tr>\n",
              "  </tbody>\n",
              "</table>\n",
              "</div>"
            ],
            "text/plain": [
              "       invoice_num stock_code description  ...  unit_price customer_id  country\n",
              "299512      563100       POST     postage  ...        40.0       12381   Norway\n",
              "224432      556526       POST     postage  ...        18.0       12732   France\n",
              "186640      552874       POST     postage  ...        18.0       12621  Germany\n",
              "103055      545051       POST     postage  ...        18.0       12599   France\n",
              "477044      577046       POST     postage  ...        18.0       12449  Belgium\n",
              "\n",
              "[5 rows x 8 columns]"
            ]
          },
          "metadata": {},
          "execution_count": 125
        }
      ]
    },
    {
      "cell_type": "markdown",
      "metadata": {
        "id": "C0gUdIf2y8QQ"
      },
      "source": [
        "## Check for transactions of special items:"
      ]
    },
    {
      "cell_type": "markdown",
      "metadata": {
        "id": "u9af3D9zzEaA"
      },
      "source": [
        "The presence of special items will be checked through a regex"
      ]
    },
    {
      "cell_type": "code",
      "metadata": {
        "id": "bmXlereJyOsZ",
        "colab": {
          "base_uri": "https://localhost:8080/"
        },
        "outputId": "14822a63-f476-4278-8415-c8e2a6610549"
      },
      "source": [
        "import re\n",
        "spec_list=[]\n",
        "for code in df_new.stock_code:\n",
        "    x=re.findall(r\"^\\w{1}$|\\D[A-Z]+\\D|[A-Z]\\d\", code)\n",
        "    if x not in spec_list:\n",
        "        if len(x) >0 :\n",
        "            spec_list.append(x)\n",
        "spec_list"
      ],
      "execution_count": 126,
      "outputs": [
        {
          "output_type": "execute_result",
          "data": {
            "text/plain": [
              "[['POST'], ['PADS'], ['M'], ['DOT'], ['C2'], ['BANK ', 'CHARGES']]"
            ]
          },
          "metadata": {},
          "execution_count": 126
        }
      ]
    },
    {
      "cell_type": "markdown",
      "metadata": {
        "id": "vLtRykVr0YzG"
      },
      "source": [
        "['BANK ', 'CHARGES'] will be renamed into ['BANK CHARGES']:"
      ]
    },
    {
      "cell_type": "code",
      "metadata": {
        "id": "x-HlM5AUyOj4"
      },
      "source": [
        "spec_list[5] = ['BANK CHARGES']"
      ],
      "execution_count": 127,
      "outputs": []
    },
    {
      "cell_type": "markdown",
      "metadata": {
        "id": "u2CBnj410d4-"
      },
      "source": [
        "Then, the spec_list will be transformed into into a single list:"
      ]
    },
    {
      "cell_type": "code",
      "metadata": {
        "id": "HPFzTF8v0fAZ",
        "colab": {
          "base_uri": "https://localhost:8080/"
        },
        "outputId": "e81bf292-f9aa-4140-d5a9-edaf32b79bf2"
      },
      "source": [
        "spec_list2=[item for sublist in spec_list for item in sublist]\n",
        "spec_list2"
      ],
      "execution_count": 128,
      "outputs": [
        {
          "output_type": "execute_result",
          "data": {
            "text/plain": [
              "['POST', 'PADS', 'M', 'DOT', 'C2', 'BANK CHARGES']"
            ]
          },
          "metadata": {},
          "execution_count": 128
        }
      ]
    },
    {
      "cell_type": "markdown",
      "metadata": {
        "id": "6687TukL0qiX"
      },
      "source": [
        "Now it is possible to check all the transactions related to these special items:"
      ]
    },
    {
      "cell_type": "code",
      "metadata": {
        "id": "6uQBGAvN0fep",
        "colab": {
          "base_uri": "https://localhost:8080/",
          "height": 419
        },
        "outputId": "bc267ecf-a39c-4022-ff09-d28e253b98cf"
      },
      "source": [
        "df_new[df_new['stock_code'].apply(lambda x: x in spec_list2)]"
      ],
      "execution_count": 129,
      "outputs": [
        {
          "output_type": "execute_result",
          "data": {
            "text/html": [
              "<div>\n",
              "<style scoped>\n",
              "    .dataframe tbody tr th:only-of-type {\n",
              "        vertical-align: middle;\n",
              "    }\n",
              "\n",
              "    .dataframe tbody tr th {\n",
              "        vertical-align: top;\n",
              "    }\n",
              "\n",
              "    .dataframe thead th {\n",
              "        text-align: right;\n",
              "    }\n",
              "</style>\n",
              "<table border=\"1\" class=\"dataframe\">\n",
              "  <thead>\n",
              "    <tr style=\"text-align: right;\">\n",
              "      <th></th>\n",
              "      <th>invoice_num</th>\n",
              "      <th>stock_code</th>\n",
              "      <th>description</th>\n",
              "      <th>quantity</th>\n",
              "      <th>invoice_date</th>\n",
              "      <th>unit_price</th>\n",
              "      <th>customer_id</th>\n",
              "      <th>country</th>\n",
              "    </tr>\n",
              "  </thead>\n",
              "  <tbody>\n",
              "    <tr>\n",
              "      <th>299512</th>\n",
              "      <td>563100</td>\n",
              "      <td>POST</td>\n",
              "      <td>postage</td>\n",
              "      <td>6</td>\n",
              "      <td>2011-08-12 09:57:00</td>\n",
              "      <td>40.0</td>\n",
              "      <td>12381</td>\n",
              "      <td>Norway</td>\n",
              "    </tr>\n",
              "    <tr>\n",
              "      <th>224432</th>\n",
              "      <td>556526</td>\n",
              "      <td>POST</td>\n",
              "      <td>postage</td>\n",
              "      <td>1</td>\n",
              "      <td>2011-06-13 11:33:00</td>\n",
              "      <td>18.0</td>\n",
              "      <td>12732</td>\n",
              "      <td>France</td>\n",
              "    </tr>\n",
              "    <tr>\n",
              "      <th>186640</th>\n",
              "      <td>552874</td>\n",
              "      <td>POST</td>\n",
              "      <td>postage</td>\n",
              "      <td>7</td>\n",
              "      <td>2011-05-12 09:40:00</td>\n",
              "      <td>18.0</td>\n",
              "      <td>12621</td>\n",
              "      <td>Germany</td>\n",
              "    </tr>\n",
              "    <tr>\n",
              "      <th>103055</th>\n",
              "      <td>545051</td>\n",
              "      <td>POST</td>\n",
              "      <td>postage</td>\n",
              "      <td>1</td>\n",
              "      <td>2011-02-27 11:58:00</td>\n",
              "      <td>18.0</td>\n",
              "      <td>12599</td>\n",
              "      <td>France</td>\n",
              "    </tr>\n",
              "    <tr>\n",
              "      <th>477044</th>\n",
              "      <td>577046</td>\n",
              "      <td>POST</td>\n",
              "      <td>postage</td>\n",
              "      <td>7</td>\n",
              "      <td>2011-11-17 13:46:00</td>\n",
              "      <td>18.0</td>\n",
              "      <td>12449</td>\n",
              "      <td>Belgium</td>\n",
              "    </tr>\n",
              "    <tr>\n",
              "      <th>...</th>\n",
              "      <td>...</td>\n",
              "      <td>...</td>\n",
              "      <td>...</td>\n",
              "      <td>...</td>\n",
              "      <td>...</td>\n",
              "      <td>...</td>\n",
              "      <td>...</td>\n",
              "      <td>...</td>\n",
              "    </tr>\n",
              "    <tr>\n",
              "      <th>327921</th>\n",
              "      <td>565735</td>\n",
              "      <td>BANK CHARGES</td>\n",
              "      <td>bank charges</td>\n",
              "      <td>1</td>\n",
              "      <td>2011-09-06 12:25:00</td>\n",
              "      <td>15.0</td>\n",
              "      <td>16904</td>\n",
              "      <td>United Kingdom</td>\n",
              "    </tr>\n",
              "    <tr>\n",
              "      <th>62508</th>\n",
              "      <td>541505</td>\n",
              "      <td>BANK CHARGES</td>\n",
              "      <td>bank charges</td>\n",
              "      <td>1</td>\n",
              "      <td>2011-01-18 15:58:00</td>\n",
              "      <td>15.0</td>\n",
              "      <td>15939</td>\n",
              "      <td>United Kingdom</td>\n",
              "    </tr>\n",
              "    <tr>\n",
              "      <th>440745</th>\n",
              "      <td>574546</td>\n",
              "      <td>BANK CHARGES</td>\n",
              "      <td>bank charges</td>\n",
              "      <td>1</td>\n",
              "      <td>2011-11-04 14:59:00</td>\n",
              "      <td>15.0</td>\n",
              "      <td>13651</td>\n",
              "      <td>United Kingdom</td>\n",
              "    </tr>\n",
              "    <tr>\n",
              "      <th>506357</th>\n",
              "      <td>579137</td>\n",
              "      <td>BANK CHARGES</td>\n",
              "      <td>bank charges</td>\n",
              "      <td>1</td>\n",
              "      <td>2011-11-28 12:51:00</td>\n",
              "      <td>15.0</td>\n",
              "      <td>14704</td>\n",
              "      <td>United Kingdom</td>\n",
              "    </tr>\n",
              "    <tr>\n",
              "      <th>175275</th>\n",
              "      <td>551945</td>\n",
              "      <td>BANK CHARGES</td>\n",
              "      <td>bank charges</td>\n",
              "      <td>1</td>\n",
              "      <td>2011-05-05 11:09:00</td>\n",
              "      <td>15.0</td>\n",
              "      <td>16714</td>\n",
              "      <td>United Kingdom</td>\n",
              "    </tr>\n",
              "  </tbody>\n",
              "</table>\n",
              "<p>1549 rows × 8 columns</p>\n",
              "</div>"
            ],
            "text/plain": [
              "       invoice_num    stock_code  ... customer_id         country\n",
              "299512      563100          POST  ...       12381          Norway\n",
              "224432      556526          POST  ...       12732          France\n",
              "186640      552874          POST  ...       12621         Germany\n",
              "103055      545051          POST  ...       12599          France\n",
              "477044      577046          POST  ...       12449         Belgium\n",
              "...            ...           ...  ...         ...             ...\n",
              "327921      565735  BANK CHARGES  ...       16904  United Kingdom\n",
              "62508       541505  BANK CHARGES  ...       15939  United Kingdom\n",
              "440745      574546  BANK CHARGES  ...       13651  United Kingdom\n",
              "506357      579137  BANK CHARGES  ...       14704  United Kingdom\n",
              "175275      551945  BANK CHARGES  ...       16714  United Kingdom\n",
              "\n",
              "[1549 rows x 8 columns]"
            ]
          },
          "metadata": {},
          "execution_count": 129
        }
      ]
    },
    {
      "cell_type": "markdown",
      "metadata": {
        "id": "UA1n6isv1CiG"
      },
      "source": [
        "There are so other types of transactions included in the dataset. They will be dropped.\n",
        "The special transations are: POST ( postage), M ( manual), Bank charges and C2 ( carriage)"
      ]
    },
    {
      "cell_type": "code",
      "metadata": {
        "id": "8Siy4ZU_0fb-"
      },
      "source": [
        "df_new = df_new[~df_new['stock_code'].isin(spec_list2)]"
      ],
      "execution_count": 130,
      "outputs": []
    },
    {
      "cell_type": "code",
      "metadata": {
        "id": "dJ2skJqn0fZD",
        "colab": {
          "base_uri": "https://localhost:8080/"
        },
        "outputId": "54801012-4c5d-45d0-d0d3-239a43a68ec6"
      },
      "source": [
        "print(\"The number of transactions is: \", df_new.shape[0])"
      ],
      "execution_count": 131,
      "outputs": [
        {
          "output_type": "stream",
          "name": "stdout",
          "text": [
            "The number of transactions is:  391183\n"
          ]
        }
      ]
    },
    {
      "cell_type": "markdown",
      "metadata": {
        "id": "b9aswwut10CW"
      },
      "source": [
        "392732-391183=1549 elements have been dropped"
      ]
    },
    {
      "cell_type": "markdown",
      "metadata": {
        "id": "T52hrpLm14xV"
      },
      "source": [
        "# **Feature Engineering**"
      ]
    },
    {
      "cell_type": "markdown",
      "metadata": {
        "id": "gBJNmxCo2GXP"
      },
      "source": [
        "Adding a column 'Amount spent'"
      ]
    },
    {
      "cell_type": "code",
      "metadata": {
        "id": "zUgO54T80fWA",
        "colab": {
          "base_uri": "https://localhost:8080/"
        },
        "outputId": "eabf6d46-ac90-4791-c52c-9d604cf0ddd7"
      },
      "source": [
        "df_new['amount_spent']=df_new['quantity'] * df_new['unit_price']"
      ],
      "execution_count": 132,
      "outputs": [
        {
          "output_type": "stream",
          "name": "stderr",
          "text": [
            "/usr/local/lib/python3.7/dist-packages/ipykernel_launcher.py:1: SettingWithCopyWarning: \n",
            "A value is trying to be set on a copy of a slice from a DataFrame.\n",
            "Try using .loc[row_indexer,col_indexer] = value instead\n",
            "\n",
            "See the caveats in the documentation: https://pandas.pydata.org/pandas-docs/stable/user_guide/indexing.html#returning-a-view-versus-a-copy\n",
            "  \"\"\"Entry point for launching an IPython kernel.\n"
          ]
        }
      ]
    },
    {
      "cell_type": "code",
      "metadata": {
        "id": "ZsaMZRim0fTX",
        "colab": {
          "base_uri": "https://localhost:8080/",
          "height": 204
        },
        "outputId": "7fef72d4-e897-4a55-f672-9fb27b34fc92"
      },
      "source": [
        "df_new.head()"
      ],
      "execution_count": 133,
      "outputs": [
        {
          "output_type": "execute_result",
          "data": {
            "text/html": [
              "<div>\n",
              "<style scoped>\n",
              "    .dataframe tbody tr th:only-of-type {\n",
              "        vertical-align: middle;\n",
              "    }\n",
              "\n",
              "    .dataframe tbody tr th {\n",
              "        vertical-align: top;\n",
              "    }\n",
              "\n",
              "    .dataframe thead th {\n",
              "        text-align: right;\n",
              "    }\n",
              "</style>\n",
              "<table border=\"1\" class=\"dataframe\">\n",
              "  <thead>\n",
              "    <tr style=\"text-align: right;\">\n",
              "      <th></th>\n",
              "      <th>invoice_num</th>\n",
              "      <th>stock_code</th>\n",
              "      <th>description</th>\n",
              "      <th>quantity</th>\n",
              "      <th>invoice_date</th>\n",
              "      <th>unit_price</th>\n",
              "      <th>customer_id</th>\n",
              "      <th>country</th>\n",
              "      <th>amount_spent</th>\n",
              "    </tr>\n",
              "  </thead>\n",
              "  <tbody>\n",
              "    <tr>\n",
              "      <th>527069</th>\n",
              "      <td>580691</td>\n",
              "      <td>90214Z</td>\n",
              "      <td>letter \"z\" bling key ring</td>\n",
              "      <td>12</td>\n",
              "      <td>2011-12-05 15:48:00</td>\n",
              "      <td>0.29</td>\n",
              "      <td>13790</td>\n",
              "      <td>United Kingdom</td>\n",
              "      <td>3.48</td>\n",
              "    </tr>\n",
              "    <tr>\n",
              "      <th>193006</th>\n",
              "      <td>553503</td>\n",
              "      <td>90214Y</td>\n",
              "      <td>letter \"y\" bling key ring</td>\n",
              "      <td>1</td>\n",
              "      <td>2011-05-17 13:20:00</td>\n",
              "      <td>1.25</td>\n",
              "      <td>14606</td>\n",
              "      <td>United Kingdom</td>\n",
              "      <td>1.25</td>\n",
              "    </tr>\n",
              "    <tr>\n",
              "      <th>527068</th>\n",
              "      <td>580691</td>\n",
              "      <td>90214Y</td>\n",
              "      <td>letter \"y\" bling key ring</td>\n",
              "      <td>12</td>\n",
              "      <td>2011-12-05 15:48:00</td>\n",
              "      <td>0.29</td>\n",
              "      <td>13790</td>\n",
              "      <td>United Kingdom</td>\n",
              "      <td>3.48</td>\n",
              "    </tr>\n",
              "    <tr>\n",
              "      <th>532744</th>\n",
              "      <td>580996</td>\n",
              "      <td>90214Y</td>\n",
              "      <td>letter \"y\" bling key ring</td>\n",
              "      <td>48</td>\n",
              "      <td>2011-12-06 17:18:00</td>\n",
              "      <td>0.29</td>\n",
              "      <td>14578</td>\n",
              "      <td>United Kingdom</td>\n",
              "      <td>13.92</td>\n",
              "    </tr>\n",
              "    <tr>\n",
              "      <th>527067</th>\n",
              "      <td>580691</td>\n",
              "      <td>90214W</td>\n",
              "      <td>letter \"w\" bling key ring</td>\n",
              "      <td>12</td>\n",
              "      <td>2011-12-05 15:48:00</td>\n",
              "      <td>0.29</td>\n",
              "      <td>13790</td>\n",
              "      <td>United Kingdom</td>\n",
              "      <td>3.48</td>\n",
              "    </tr>\n",
              "  </tbody>\n",
              "</table>\n",
              "</div>"
            ],
            "text/plain": [
              "       invoice_num stock_code  ...         country  amount_spent\n",
              "527069      580691     90214Z  ...  United Kingdom          3.48\n",
              "193006      553503     90214Y  ...  United Kingdom          1.25\n",
              "527068      580691     90214Y  ...  United Kingdom          3.48\n",
              "532744      580996     90214Y  ...  United Kingdom         13.92\n",
              "527067      580691     90214W  ...  United Kingdom          3.48\n",
              "\n",
              "[5 rows x 9 columns]"
            ]
          },
          "metadata": {},
          "execution_count": 133
        }
      ]
    },
    {
      "cell_type": "markdown",
      "metadata": {
        "id": "PUToZd4O2jmW"
      },
      "source": [
        "Reordering the columns for easier reference"
      ]
    },
    {
      "cell_type": "code",
      "metadata": {
        "id": "ukxbdIxB2ofa"
      },
      "source": [
        "df_new=df_new[['invoice_num', 'invoice_date', 'stock_code', 'description', 'quantity', 'unit_price', 'amount_spent', 'customer_id', 'country']]"
      ],
      "execution_count": 134,
      "outputs": []
    },
    {
      "cell_type": "code",
      "metadata": {
        "id": "nbzae9UD2pDe",
        "colab": {
          "base_uri": "https://localhost:8080/",
          "height": 204
        },
        "outputId": "357117f1-e504-4382-b3cf-3df53bd96fb1"
      },
      "source": [
        "df_new.head()"
      ],
      "execution_count": 135,
      "outputs": [
        {
          "output_type": "execute_result",
          "data": {
            "text/html": [
              "<div>\n",
              "<style scoped>\n",
              "    .dataframe tbody tr th:only-of-type {\n",
              "        vertical-align: middle;\n",
              "    }\n",
              "\n",
              "    .dataframe tbody tr th {\n",
              "        vertical-align: top;\n",
              "    }\n",
              "\n",
              "    .dataframe thead th {\n",
              "        text-align: right;\n",
              "    }\n",
              "</style>\n",
              "<table border=\"1\" class=\"dataframe\">\n",
              "  <thead>\n",
              "    <tr style=\"text-align: right;\">\n",
              "      <th></th>\n",
              "      <th>invoice_num</th>\n",
              "      <th>invoice_date</th>\n",
              "      <th>stock_code</th>\n",
              "      <th>description</th>\n",
              "      <th>quantity</th>\n",
              "      <th>unit_price</th>\n",
              "      <th>amount_spent</th>\n",
              "      <th>customer_id</th>\n",
              "      <th>country</th>\n",
              "    </tr>\n",
              "  </thead>\n",
              "  <tbody>\n",
              "    <tr>\n",
              "      <th>527069</th>\n",
              "      <td>580691</td>\n",
              "      <td>2011-12-05 15:48:00</td>\n",
              "      <td>90214Z</td>\n",
              "      <td>letter \"z\" bling key ring</td>\n",
              "      <td>12</td>\n",
              "      <td>0.29</td>\n",
              "      <td>3.48</td>\n",
              "      <td>13790</td>\n",
              "      <td>United Kingdom</td>\n",
              "    </tr>\n",
              "    <tr>\n",
              "      <th>193006</th>\n",
              "      <td>553503</td>\n",
              "      <td>2011-05-17 13:20:00</td>\n",
              "      <td>90214Y</td>\n",
              "      <td>letter \"y\" bling key ring</td>\n",
              "      <td>1</td>\n",
              "      <td>1.25</td>\n",
              "      <td>1.25</td>\n",
              "      <td>14606</td>\n",
              "      <td>United Kingdom</td>\n",
              "    </tr>\n",
              "    <tr>\n",
              "      <th>527068</th>\n",
              "      <td>580691</td>\n",
              "      <td>2011-12-05 15:48:00</td>\n",
              "      <td>90214Y</td>\n",
              "      <td>letter \"y\" bling key ring</td>\n",
              "      <td>12</td>\n",
              "      <td>0.29</td>\n",
              "      <td>3.48</td>\n",
              "      <td>13790</td>\n",
              "      <td>United Kingdom</td>\n",
              "    </tr>\n",
              "    <tr>\n",
              "      <th>532744</th>\n",
              "      <td>580996</td>\n",
              "      <td>2011-12-06 17:18:00</td>\n",
              "      <td>90214Y</td>\n",
              "      <td>letter \"y\" bling key ring</td>\n",
              "      <td>48</td>\n",
              "      <td>0.29</td>\n",
              "      <td>13.92</td>\n",
              "      <td>14578</td>\n",
              "      <td>United Kingdom</td>\n",
              "    </tr>\n",
              "    <tr>\n",
              "      <th>527067</th>\n",
              "      <td>580691</td>\n",
              "      <td>2011-12-05 15:48:00</td>\n",
              "      <td>90214W</td>\n",
              "      <td>letter \"w\" bling key ring</td>\n",
              "      <td>12</td>\n",
              "      <td>0.29</td>\n",
              "      <td>3.48</td>\n",
              "      <td>13790</td>\n",
              "      <td>United Kingdom</td>\n",
              "    </tr>\n",
              "  </tbody>\n",
              "</table>\n",
              "</div>"
            ],
            "text/plain": [
              "       invoice_num        invoice_date  ... customer_id         country\n",
              "527069      580691 2011-12-05 15:48:00  ...       13790  United Kingdom\n",
              "193006      553503 2011-05-17 13:20:00  ...       14606  United Kingdom\n",
              "527068      580691 2011-12-05 15:48:00  ...       13790  United Kingdom\n",
              "532744      580996 2011-12-06 17:18:00  ...       14578  United Kingdom\n",
              "527067      580691 2011-12-05 15:48:00  ...       13790  United Kingdom\n",
              "\n",
              "[5 rows x 9 columns]"
            ]
          },
          "metadata": {},
          "execution_count": 135
        }
      ]
    },
    {
      "cell_type": "markdown",
      "metadata": {
        "id": "PIaXG5dR2wjl"
      },
      "source": [
        "Creating columns for day, month, year"
      ]
    },
    {
      "cell_type": "code",
      "metadata": {
        "id": "H-Emm1aP2pAT"
      },
      "source": [
        "df_new.insert(loc=2, column='yearmonth', value=df_new['invoice_date'].map(lambda x: 100 * x.year + x.month))\n",
        "df_new.insert(loc=3, column='month', value=df_new.invoice_date.dt.month)\n",
        "df_new.insert(loc=4, column='day', value=(df_new.invoice_date.dt.dayofweek) + 1) # +1 is used to make Monday=1.....until Sunday=7\n",
        "df_new.insert(loc=5, column='hour', value=df_new.invoice_date.dt.hour)"
      ],
      "execution_count": 136,
      "outputs": []
    },
    {
      "cell_type": "code",
      "metadata": {
        "id": "RhL65fLS2o9Y",
        "colab": {
          "base_uri": "https://localhost:8080/",
          "height": 204
        },
        "outputId": "3843b998-8901-4555-a100-21abf59173c8"
      },
      "source": [
        "df_new.head()"
      ],
      "execution_count": 137,
      "outputs": [
        {
          "output_type": "execute_result",
          "data": {
            "text/html": [
              "<div>\n",
              "<style scoped>\n",
              "    .dataframe tbody tr th:only-of-type {\n",
              "        vertical-align: middle;\n",
              "    }\n",
              "\n",
              "    .dataframe tbody tr th {\n",
              "        vertical-align: top;\n",
              "    }\n",
              "\n",
              "    .dataframe thead th {\n",
              "        text-align: right;\n",
              "    }\n",
              "</style>\n",
              "<table border=\"1\" class=\"dataframe\">\n",
              "  <thead>\n",
              "    <tr style=\"text-align: right;\">\n",
              "      <th></th>\n",
              "      <th>invoice_num</th>\n",
              "      <th>invoice_date</th>\n",
              "      <th>yearmonth</th>\n",
              "      <th>month</th>\n",
              "      <th>day</th>\n",
              "      <th>hour</th>\n",
              "      <th>stock_code</th>\n",
              "      <th>description</th>\n",
              "      <th>quantity</th>\n",
              "      <th>unit_price</th>\n",
              "      <th>amount_spent</th>\n",
              "      <th>customer_id</th>\n",
              "      <th>country</th>\n",
              "    </tr>\n",
              "  </thead>\n",
              "  <tbody>\n",
              "    <tr>\n",
              "      <th>527069</th>\n",
              "      <td>580691</td>\n",
              "      <td>2011-12-05 15:48:00</td>\n",
              "      <td>201112</td>\n",
              "      <td>12</td>\n",
              "      <td>1</td>\n",
              "      <td>15</td>\n",
              "      <td>90214Z</td>\n",
              "      <td>letter \"z\" bling key ring</td>\n",
              "      <td>12</td>\n",
              "      <td>0.29</td>\n",
              "      <td>3.48</td>\n",
              "      <td>13790</td>\n",
              "      <td>United Kingdom</td>\n",
              "    </tr>\n",
              "    <tr>\n",
              "      <th>193006</th>\n",
              "      <td>553503</td>\n",
              "      <td>2011-05-17 13:20:00</td>\n",
              "      <td>201105</td>\n",
              "      <td>5</td>\n",
              "      <td>2</td>\n",
              "      <td>13</td>\n",
              "      <td>90214Y</td>\n",
              "      <td>letter \"y\" bling key ring</td>\n",
              "      <td>1</td>\n",
              "      <td>1.25</td>\n",
              "      <td>1.25</td>\n",
              "      <td>14606</td>\n",
              "      <td>United Kingdom</td>\n",
              "    </tr>\n",
              "    <tr>\n",
              "      <th>527068</th>\n",
              "      <td>580691</td>\n",
              "      <td>2011-12-05 15:48:00</td>\n",
              "      <td>201112</td>\n",
              "      <td>12</td>\n",
              "      <td>1</td>\n",
              "      <td>15</td>\n",
              "      <td>90214Y</td>\n",
              "      <td>letter \"y\" bling key ring</td>\n",
              "      <td>12</td>\n",
              "      <td>0.29</td>\n",
              "      <td>3.48</td>\n",
              "      <td>13790</td>\n",
              "      <td>United Kingdom</td>\n",
              "    </tr>\n",
              "    <tr>\n",
              "      <th>532744</th>\n",
              "      <td>580996</td>\n",
              "      <td>2011-12-06 17:18:00</td>\n",
              "      <td>201112</td>\n",
              "      <td>12</td>\n",
              "      <td>2</td>\n",
              "      <td>17</td>\n",
              "      <td>90214Y</td>\n",
              "      <td>letter \"y\" bling key ring</td>\n",
              "      <td>48</td>\n",
              "      <td>0.29</td>\n",
              "      <td>13.92</td>\n",
              "      <td>14578</td>\n",
              "      <td>United Kingdom</td>\n",
              "    </tr>\n",
              "    <tr>\n",
              "      <th>527067</th>\n",
              "      <td>580691</td>\n",
              "      <td>2011-12-05 15:48:00</td>\n",
              "      <td>201112</td>\n",
              "      <td>12</td>\n",
              "      <td>1</td>\n",
              "      <td>15</td>\n",
              "      <td>90214W</td>\n",
              "      <td>letter \"w\" bling key ring</td>\n",
              "      <td>12</td>\n",
              "      <td>0.29</td>\n",
              "      <td>3.48</td>\n",
              "      <td>13790</td>\n",
              "      <td>United Kingdom</td>\n",
              "    </tr>\n",
              "  </tbody>\n",
              "</table>\n",
              "</div>"
            ],
            "text/plain": [
              "       invoice_num        invoice_date  ...  customer_id         country\n",
              "527069      580691 2011-12-05 15:48:00  ...        13790  United Kingdom\n",
              "193006      553503 2011-05-17 13:20:00  ...        14606  United Kingdom\n",
              "527068      580691 2011-12-05 15:48:00  ...        13790  United Kingdom\n",
              "532744      580996 2011-12-06 17:18:00  ...        14578  United Kingdom\n",
              "527067      580691 2011-12-05 15:48:00  ...        13790  United Kingdom\n",
              "\n",
              "[5 rows x 13 columns]"
            ]
          },
          "metadata": {},
          "execution_count": 137
        }
      ]
    },
    {
      "cell_type": "markdown",
      "metadata": {
        "id": "wbk52HphK9rP"
      },
      "source": [
        "Now the dataset looks cleaner and is ready for EDA"
      ]
    },
    {
      "cell_type": "markdown",
      "metadata": {
        "id": "Pv_cjlwgLA-m"
      },
      "source": [
        "# **Exploratory Data Analysis (EDA)**"
      ]
    },
    {
      "cell_type": "code",
      "metadata": {
        "id": "k2RyEJga2o6l",
        "colab": {
          "base_uri": "https://localhost:8080/",
          "height": 204
        },
        "outputId": "7e5a4ba6-1f34-4f1f-9ce8-c1b1d6356fed"
      },
      "source": [
        "orders=df_new.groupby(by=['customer_id','country'], as_index=False)['invoice_num'].count()\n",
        "orders.head()"
      ],
      "execution_count": 138,
      "outputs": [
        {
          "output_type": "execute_result",
          "data": {
            "text/html": [
              "<div>\n",
              "<style scoped>\n",
              "    .dataframe tbody tr th:only-of-type {\n",
              "        vertical-align: middle;\n",
              "    }\n",
              "\n",
              "    .dataframe tbody tr th {\n",
              "        vertical-align: top;\n",
              "    }\n",
              "\n",
              "    .dataframe thead th {\n",
              "        text-align: right;\n",
              "    }\n",
              "</style>\n",
              "<table border=\"1\" class=\"dataframe\">\n",
              "  <thead>\n",
              "    <tr style=\"text-align: right;\">\n",
              "      <th></th>\n",
              "      <th>customer_id</th>\n",
              "      <th>country</th>\n",
              "      <th>invoice_num</th>\n",
              "    </tr>\n",
              "  </thead>\n",
              "  <tbody>\n",
              "    <tr>\n",
              "      <th>0</th>\n",
              "      <td>12346</td>\n",
              "      <td>United Kingdom</td>\n",
              "      <td>1</td>\n",
              "    </tr>\n",
              "    <tr>\n",
              "      <th>1</th>\n",
              "      <td>12347</td>\n",
              "      <td>Iceland</td>\n",
              "      <td>182</td>\n",
              "    </tr>\n",
              "    <tr>\n",
              "      <th>2</th>\n",
              "      <td>12348</td>\n",
              "      <td>Finland</td>\n",
              "      <td>27</td>\n",
              "    </tr>\n",
              "    <tr>\n",
              "      <th>3</th>\n",
              "      <td>12349</td>\n",
              "      <td>Italy</td>\n",
              "      <td>72</td>\n",
              "    </tr>\n",
              "    <tr>\n",
              "      <th>4</th>\n",
              "      <td>12350</td>\n",
              "      <td>Norway</td>\n",
              "      <td>16</td>\n",
              "    </tr>\n",
              "  </tbody>\n",
              "</table>\n",
              "</div>"
            ],
            "text/plain": [
              "   customer_id         country  invoice_num\n",
              "0        12346  United Kingdom            1\n",
              "1        12347         Iceland          182\n",
              "2        12348         Finland           27\n",
              "3        12349           Italy           72\n",
              "4        12350          Norway           16"
            ]
          },
          "metadata": {},
          "execution_count": 138
        }
      ]
    },
    {
      "cell_type": "markdown",
      "metadata": {
        "id": "5Kw4y1OfLiFd"
      },
      "source": [
        "The column invoice_num has the count of invoice_num for each customer\n",
        "\n",
        "The equivalent code in SQL would be:\n",
        "\n",
        "SELECT customer_id, country, count(invoice_num)\n",
        "\n",
        "FROM df_new\n",
        "\n",
        "GROUP BY customer_id, country\n",
        "\n",
        "ORDER BY customer_id;"
      ]
    },
    {
      "cell_type": "markdown",
      "metadata": {
        "id": "XlUbQieHL4Uc"
      },
      "source": [
        "Ploting the number of order by customer_id"
      ]
    },
    {
      "cell_type": "code",
      "metadata": {
        "id": "JkDW_x-t2o4N",
        "colab": {
          "base_uri": "https://localhost:8080/",
          "height": 404
        },
        "outputId": "acf79839-4247-4e27-94a2-2d1c1dcd0ccc"
      },
      "source": [
        "plt.subplots(figsize=(20,6))\n",
        "plt.plot(orders.customer_id, orders.invoice_num)\n",
        "plt.xlabel('Customer ID')\n",
        "plt.ylabel('Number of Orders')\n",
        "plt.title('Number of Orders for Different Customers')\n",
        "plt.show()"
      ],
      "execution_count": 139,
      "outputs": [
        {
          "output_type": "display_data",
          "data": {
            "image/png": "[encoded data removed]",
            "text/plain": [
              "<Figure size 1440x432 with 1 Axes>"
            ]
          },
          "metadata": {
            "needs_background": "light"
          }
        }
      ]
    },
    {
      "cell_type": "markdown",
      "metadata": {
        "id": "xEBOeX6HPNQ_"
      },
      "source": [
        "## The TOP 5 Lowest number of orders is:"
      ]
    },
    {
      "cell_type": "markdown",
      "metadata": {
        "id": "Mwr634euPu8m"
      },
      "source": [
        "From where comes the customer with the lowest number of orders? (show top 5 )"
      ]
    },
    {
      "cell_type": "code",
      "metadata": {
        "colab": {
          "base_uri": "https://localhost:8080/",
          "height": 204
        },
        "id": "D6fhkwt2PYDf",
        "outputId": "b3f0f33a-fe8c-47b7-b908-b3e6e4dc0bb8"
      },
      "source": [
        "orders.sort_values(by='invoice_num', ascending=True).head()"
      ],
      "execution_count": 140,
      "outputs": [
        {
          "output_type": "execute_result",
          "data": {
            "text/html": [
              "<div>\n",
              "<style scoped>\n",
              "    .dataframe tbody tr th:only-of-type {\n",
              "        vertical-align: middle;\n",
              "    }\n",
              "\n",
              "    .dataframe tbody tr th {\n",
              "        vertical-align: top;\n",
              "    }\n",
              "\n",
              "    .dataframe thead th {\n",
              "        text-align: right;\n",
              "    }\n",
              "</style>\n",
              "<table border=\"1\" class=\"dataframe\">\n",
              "  <thead>\n",
              "    <tr style=\"text-align: right;\">\n",
              "      <th></th>\n",
              "      <th>customer_id</th>\n",
              "      <th>country</th>\n",
              "      <th>invoice_num</th>\n",
              "    </tr>\n",
              "  </thead>\n",
              "  <tbody>\n",
              "    <tr>\n",
              "      <th>0</th>\n",
              "      <td>12346</td>\n",
              "      <td>United Kingdom</td>\n",
              "      <td>1</td>\n",
              "    </tr>\n",
              "    <tr>\n",
              "      <th>2442</th>\n",
              "      <td>15657</td>\n",
              "      <td>United Kingdom</td>\n",
              "      <td>1</td>\n",
              "    </tr>\n",
              "    <tr>\n",
              "      <th>522</th>\n",
              "      <td>13017</td>\n",
              "      <td>United Kingdom</td>\n",
              "      <td>1</td>\n",
              "    </tr>\n",
              "    <tr>\n",
              "      <th>4097</th>\n",
              "      <td>17948</td>\n",
              "      <td>United Kingdom</td>\n",
              "      <td>1</td>\n",
              "    </tr>\n",
              "    <tr>\n",
              "      <th>2451</th>\n",
              "      <td>15668</td>\n",
              "      <td>United Kingdom</td>\n",
              "      <td>1</td>\n",
              "    </tr>\n",
              "  </tbody>\n",
              "</table>\n",
              "</div>"
            ],
            "text/plain": [
              "      customer_id         country  invoice_num\n",
              "0           12346  United Kingdom            1\n",
              "2442        15657  United Kingdom            1\n",
              "522         13017  United Kingdom            1\n",
              "4097        17948  United Kingdom            1\n",
              "2451        15668  United Kingdom            1"
            ]
          },
          "metadata": {},
          "execution_count": 140
        }
      ]
    },
    {
      "cell_type": "markdown",
      "metadata": {
        "id": "VvdNDbWSPHlv"
      },
      "source": [
        "The 5 lowests number of orders are from UK."
      ]
    },
    {
      "cell_type": "markdown",
      "metadata": {
        "id": "e88CS3qBQKRu"
      },
      "source": [
        "## The TOP 5 Most number of orders is:"
      ]
    },
    {
      "cell_type": "markdown",
      "metadata": {
        "id": "3RQnIXjQQaoO"
      },
      "source": [
        "- From where comes the customer with the highest number of orders?(show top 5)"
      ]
    },
    {
      "cell_type": "code",
      "metadata": {
        "colab": {
          "base_uri": "https://localhost:8080/",
          "height": 204
        },
        "id": "BlZWzRhnQNWG",
        "outputId": "1e65f895-573e-4355-8e4f-bc0a9308ea2f"
      },
      "source": [
        "orders.sort_values(by='invoice_num', ascending=False).head()"
      ],
      "execution_count": 141,
      "outputs": [
        {
          "output_type": "execute_result",
          "data": {
            "text/html": [
              "<div>\n",
              "<style scoped>\n",
              "    .dataframe tbody tr th:only-of-type {\n",
              "        vertical-align: middle;\n",
              "    }\n",
              "\n",
              "    .dataframe tbody tr th {\n",
              "        vertical-align: top;\n",
              "    }\n",
              "\n",
              "    .dataframe thead th {\n",
              "        text-align: right;\n",
              "    }\n",
              "</style>\n",
              "<table border=\"1\" class=\"dataframe\">\n",
              "  <thead>\n",
              "    <tr style=\"text-align: right;\">\n",
              "      <th></th>\n",
              "      <th>customer_id</th>\n",
              "      <th>country</th>\n",
              "      <th>invoice_num</th>\n",
              "    </tr>\n",
              "  </thead>\n",
              "  <tbody>\n",
              "    <tr>\n",
              "      <th>4016</th>\n",
              "      <td>17841</td>\n",
              "      <td>United Kingdom</td>\n",
              "      <td>7667</td>\n",
              "    </tr>\n",
              "    <tr>\n",
              "      <th>1888</th>\n",
              "      <td>14911</td>\n",
              "      <td>EIRE</td>\n",
              "      <td>5586</td>\n",
              "    </tr>\n",
              "    <tr>\n",
              "      <th>1298</th>\n",
              "      <td>14096</td>\n",
              "      <td>United Kingdom</td>\n",
              "      <td>5095</td>\n",
              "    </tr>\n",
              "    <tr>\n",
              "      <th>334</th>\n",
              "      <td>12748</td>\n",
              "      <td>United Kingdom</td>\n",
              "      <td>4397</td>\n",
              "    </tr>\n",
              "    <tr>\n",
              "      <th>1670</th>\n",
              "      <td>14606</td>\n",
              "      <td>United Kingdom</td>\n",
              "      <td>2674</td>\n",
              "    </tr>\n",
              "  </tbody>\n",
              "</table>\n",
              "</div>"
            ],
            "text/plain": [
              "      customer_id         country  invoice_num\n",
              "4016        17841  United Kingdom         7667\n",
              "1888        14911            EIRE         5586\n",
              "1298        14096  United Kingdom         5095\n",
              "334         12748  United Kingdom         4397\n",
              "1670        14606  United Kingdom         2674"
            ]
          },
          "metadata": {},
          "execution_count": 141
        }
      ]
    },
    {
      "cell_type": "markdown",
      "metadata": {
        "id": "F7BS4pzAQ1Ki"
      },
      "source": [
        "The customers with highests numbers of orders are from UK and EIRE."
      ]
    },
    {
      "cell_type": "markdown",
      "metadata": {
        "id": "l09ovP8ITqIr"
      },
      "source": [
        "## How much money spent by the customers?"
      ]
    },
    {
      "cell_type": "code",
      "metadata": {
        "colab": {
          "base_uri": "https://localhost:8080/",
          "height": 204
        },
        "id": "6mGWRqLQQOHx",
        "outputId": "f6d2febf-94f2-430c-9fe1-1f05ef4fe9f0"
      },
      "source": [
        "money_spent = df_new.groupby(by=['customer_id','country'], as_index=False)['amount_spent'].sum()\n",
        "money_spent.head()"
      ],
      "execution_count": 142,
      "outputs": [
        {
          "output_type": "execute_result",
          "data": {
            "text/html": [
              "<div>\n",
              "<style scoped>\n",
              "    .dataframe tbody tr th:only-of-type {\n",
              "        vertical-align: middle;\n",
              "    }\n",
              "\n",
              "    .dataframe tbody tr th {\n",
              "        vertical-align: top;\n",
              "    }\n",
              "\n",
              "    .dataframe thead th {\n",
              "        text-align: right;\n",
              "    }\n",
              "</style>\n",
              "<table border=\"1\" class=\"dataframe\">\n",
              "  <thead>\n",
              "    <tr style=\"text-align: right;\">\n",
              "      <th></th>\n",
              "      <th>customer_id</th>\n",
              "      <th>country</th>\n",
              "      <th>amount_spent</th>\n",
              "    </tr>\n",
              "  </thead>\n",
              "  <tbody>\n",
              "    <tr>\n",
              "      <th>0</th>\n",
              "      <td>12346</td>\n",
              "      <td>United Kingdom</td>\n",
              "      <td>77183.60</td>\n",
              "    </tr>\n",
              "    <tr>\n",
              "      <th>1</th>\n",
              "      <td>12347</td>\n",
              "      <td>Iceland</td>\n",
              "      <td>4310.00</td>\n",
              "    </tr>\n",
              "    <tr>\n",
              "      <th>2</th>\n",
              "      <td>12348</td>\n",
              "      <td>Finland</td>\n",
              "      <td>1437.24</td>\n",
              "    </tr>\n",
              "    <tr>\n",
              "      <th>3</th>\n",
              "      <td>12349</td>\n",
              "      <td>Italy</td>\n",
              "      <td>1457.55</td>\n",
              "    </tr>\n",
              "    <tr>\n",
              "      <th>4</th>\n",
              "      <td>12350</td>\n",
              "      <td>Norway</td>\n",
              "      <td>294.40</td>\n",
              "    </tr>\n",
              "  </tbody>\n",
              "</table>\n",
              "</div>"
            ],
            "text/plain": [
              "   customer_id         country  amount_spent\n",
              "0        12346  United Kingdom      77183.60\n",
              "1        12347         Iceland       4310.00\n",
              "2        12348         Finland       1437.24\n",
              "3        12349           Italy       1457.55\n",
              "4        12350          Norway        294.40"
            ]
          },
          "metadata": {},
          "execution_count": 142
        }
      ]
    },
    {
      "cell_type": "code",
      "metadata": {
        "colab": {
          "base_uri": "https://localhost:8080/",
          "height": 404
        },
        "id": "fovEr57TXQRw",
        "outputId": "058fa50a-310e-416d-b629-17618bfaee4a"
      },
      "source": [
        "plt.subplots(figsize=(20,6))\n",
        "plt.plot(money_spent.customer_id, money_spent.amount_spent)\n",
        "plt.xlabel('Customers ID')\n",
        "plt.ylabel('Money spent (Dollar)')\n",
        "plt.title('Money Spent for different Customers')\n",
        "plt.show()"
      ],
      "execution_count": 143,
      "outputs": [
        {
          "output_type": "display_data",
          "data": {
            "image/png": "[encoded data removed]",
            "text/plain": [
              "<Figure size 1440x432 with 1 Axes>"
            ]
          },
          "metadata": {
            "needs_background": "light"
          }
        }
      ]
    },
    {
      "cell_type": "markdown",
      "metadata": {
        "id": "iiOv_RmATP_j"
      },
      "source": [
        "From where comes the customer with the highest total money spent on purchases? (show top 5 )"
      ]
    },
    {
      "cell_type": "code",
      "metadata": {
        "colab": {
          "base_uri": "https://localhost:8080/",
          "height": 204
        },
        "id": "Sf5ofGkmWq3x",
        "outputId": "d25d0f15-1607-49b7-ca2e-e90eaaaed03a"
      },
      "source": [
        "money_spent.sort_values(by='amount_spent', ascending=False).head()"
      ],
      "execution_count": 144,
      "outputs": [
        {
          "output_type": "execute_result",
          "data": {
            "text/html": [
              "<div>\n",
              "<style scoped>\n",
              "    .dataframe tbody tr th:only-of-type {\n",
              "        vertical-align: middle;\n",
              "    }\n",
              "\n",
              "    .dataframe tbody tr th {\n",
              "        vertical-align: top;\n",
              "    }\n",
              "\n",
              "    .dataframe thead th {\n",
              "        text-align: right;\n",
              "    }\n",
              "</style>\n",
              "<table border=\"1\" class=\"dataframe\">\n",
              "  <thead>\n",
              "    <tr style=\"text-align: right;\">\n",
              "      <th></th>\n",
              "      <th>customer_id</th>\n",
              "      <th>country</th>\n",
              "      <th>amount_spent</th>\n",
              "    </tr>\n",
              "  </thead>\n",
              "  <tbody>\n",
              "    <tr>\n",
              "      <th>1698</th>\n",
              "      <td>14646</td>\n",
              "      <td>Netherlands</td>\n",
              "      <td>279138.02</td>\n",
              "    </tr>\n",
              "    <tr>\n",
              "      <th>4206</th>\n",
              "      <td>18102</td>\n",
              "      <td>United Kingdom</td>\n",
              "      <td>259657.30</td>\n",
              "    </tr>\n",
              "    <tr>\n",
              "      <th>3734</th>\n",
              "      <td>17450</td>\n",
              "      <td>United Kingdom</td>\n",
              "      <td>194390.79</td>\n",
              "    </tr>\n",
              "    <tr>\n",
              "      <th>3015</th>\n",
              "      <td>16446</td>\n",
              "      <td>United Kingdom</td>\n",
              "      <td>168472.50</td>\n",
              "    </tr>\n",
              "    <tr>\n",
              "      <th>1888</th>\n",
              "      <td>14911</td>\n",
              "      <td>EIRE</td>\n",
              "      <td>136161.83</td>\n",
              "    </tr>\n",
              "  </tbody>\n",
              "</table>\n",
              "</div>"
            ],
            "text/plain": [
              "      customer_id         country  amount_spent\n",
              "1698        14646     Netherlands     279138.02\n",
              "4206        18102  United Kingdom     259657.30\n",
              "3734        17450  United Kingdom     194390.79\n",
              "3015        16446  United Kingdom     168472.50\n",
              "1888        14911            EIRE     136161.83"
            ]
          },
          "metadata": {},
          "execution_count": 144
        }
      ]
    },
    {
      "cell_type": "markdown",
      "metadata": {
        "id": "LcRDvcEXT70L"
      },
      "source": [
        "The customers with the highest total money spent on purchases are from Netherlands, UK, EIRE."
      ]
    },
    {
      "cell_type": "markdown",
      "metadata": {
        "id": "YVmQLaTWbO2t"
      },
      "source": [
        "## Discover Patterns"
      ]
    },
    {
      "cell_type": "code",
      "metadata": {
        "colab": {
          "base_uri": "https://localhost:8080/"
        },
        "id": "tPzTzOrxbSik",
        "outputId": "6168354f-0ff8-4f82-ef3b-316ce85ad9fc"
      },
      "source": [
        "df_new['yearmonth'].unique()"
      ],
      "execution_count": 145,
      "outputs": [
        {
          "output_type": "execute_result",
          "data": {
            "text/plain": [
              "array([201112, 201105, 201106, 201012, 201111, 201102, 201101, 201104,\n",
              "       201103, 201109, 201107, 201110, 201108])"
            ]
          },
          "metadata": {},
          "execution_count": 145
        }
      ]
    },
    {
      "cell_type": "markdown",
      "metadata": {
        "id": "kxnuED5nbP01"
      },
      "source": [
        "Number of orders for different Months (1st Dec 2010 - 9th Dec 2011)"
      ]
    },
    {
      "cell_type": "code",
      "metadata": {
        "colab": {
          "base_uri": "https://localhost:8080/",
          "height": 414
        },
        "id": "gKn6PARSQOFH",
        "outputId": "849a706e-8ede-4384-ce8e-e154eae18aec"
      },
      "source": [
        "ax = df_new.groupby('invoice_num')['yearmonth'].unique().value_counts().sort_index().plot(kind='bar', figsize=(15,6))\n",
        "ax.set_xlabel('Month',fontsize=15)\n",
        "ax.set_ylabel('Number of Orders',fontsize=15)\n",
        "ax.set_title('Number of orders for different Months (1st Dec 2010 - 9th Dec 2011)',fontsize=15)\n",
        "ax.set_xticklabels(('Dec_10','Jan_11','Feb_11','Mar_11','Apr_11','May_11','Jun_11','July_11','Aug_11','Sep_11','Oct_11','Nov_11','Dec_11'), rotation='horizontal', fontsize=13)\n",
        "plt.show()"
      ],
      "execution_count": 153,
      "outputs": [
        {
          "output_type": "display_data",
          "data": {
            "image/png": "[encoded data removed]",
            "text/plain": [
              "<Figure size 1080x432 with 1 Axes>"
            ]
          },
          "metadata": {
            "needs_background": "light"
          }
        }
      ]
    },
    {
      "cell_type": "markdown",
      "metadata": {
        "id": "KoGGa4JieAQb"
      },
      "source": [
        "November 2011 looks like the month with most sales, maybe because it's the Black Friday's month. And December 2011 with the loest number of sales, probably because we don't have the full data of the month."
      ]
    },
    {
      "cell_type": "code",
      "metadata": {
        "colab": {
          "base_uri": "https://localhost:8080/",
          "height": 362
        },
        "id": "gF_pzpr6QN7j",
        "outputId": "f56f8528-53cb-40ef-f1ad-4338d0c5bff4"
      },
      "source": [
        "ax = df_new.groupby('invoice_num')['day'].unique().value_counts().sort_index().plot(kind='bar',figsize=(10,5))\n",
        "ax.set_xlabel('Day',fontsize=15)\n",
        "ax.set_ylabel('Number of Orders',fontsize=15)\n",
        "ax.set_title('Number of orders for different Days',fontsize=15)\n",
        "ax.set_xticklabels(('Mon','Tue','Wed','Thur','Fri','Sun'), rotation='horizontal', fontsize=15)\n",
        "plt.show()"
      ],
      "execution_count": 155,
      "outputs": [
        {
          "output_type": "display_data",
          "data": {
            "image/png": "[encoded data removed]",
            "text/plain": [
              "<Figure size 720x360 with 1 Axes>"
            ]
          },
          "metadata": {
            "needs_background": "light"
          }
        }
      ]
    },
    {
      "cell_type": "code",
      "metadata": {
        "colab": {
          "base_uri": "https://localhost:8080/",
          "height": 416
        },
        "id": "aC8P8VYrQN5n",
        "outputId": "36f28171-cf5c-42ab-f17e-cc6a1e69c1a1"
      },
      "source": [
        "ax = df_new.groupby('invoice_num')['hour'].unique().value_counts().iloc[:-1].sort_index().plot(kind='bar',figsize=(15,6))\n",
        "ax.set_xlabel('Hour',fontsize=15)\n",
        "ax.set_ylabel('Number of Orders',fontsize=15)\n",
        "ax.set_title('Number of orders for different Hours',fontsize=15)\n",
        "ax.set_xticklabels(range(6,21), rotation='horizontal', fontsize=15)\n",
        "plt.show()"
      ],
      "execution_count": 160,
      "outputs": [
        {
          "output_type": "display_data",
          "data": {
            "image/png": "[encoded data removed]",
            "text/plain": [
              "<Figure size 1080x432 with 1 Axes>"
            ]
          },
          "metadata": {
            "needs_background": "light"
          }
        }
      ]
    },
    {
      "cell_type": "markdown",
      "metadata": {
        "id": "_7P91TIAj2nm"
      },
      "source": [
        "Midday looks like the hour with most sales. Maybe people like buying at lunch time."
      ]
    },
    {
      "cell_type": "markdown",
      "metadata": {
        "id": "EGZeJJhll1Ys"
      },
      "source": [
        "## What is the average ticket?"
      ]
    },
    {
      "cell_type": "code",
      "metadata": {
        "colab": {
          "base_uri": "https://localhost:8080/",
          "height": 204
        },
        "id": "qljaASzxQN0v",
        "outputId": "b39452b5-bb1a-45ae-a73f-c710af0f1f92"
      },
      "source": [
        "ticket_value = df_new.groupby(by=['invoice_num'], as_index=False)['amount_spent'].sum()\n",
        "ticket_value.head()"
      ],
      "execution_count": 187,
      "outputs": [
        {
          "output_type": "execute_result",
          "data": {
            "text/html": [
              "<div>\n",
              "<style scoped>\n",
              "    .dataframe tbody tr th:only-of-type {\n",
              "        vertical-align: middle;\n",
              "    }\n",
              "\n",
              "    .dataframe tbody tr th {\n",
              "        vertical-align: top;\n",
              "    }\n",
              "\n",
              "    .dataframe thead th {\n",
              "        text-align: right;\n",
              "    }\n",
              "</style>\n",
              "<table border=\"1\" class=\"dataframe\">\n",
              "  <thead>\n",
              "    <tr style=\"text-align: right;\">\n",
              "      <th></th>\n",
              "      <th>invoice_num</th>\n",
              "      <th>amount_spent</th>\n",
              "    </tr>\n",
              "  </thead>\n",
              "  <tbody>\n",
              "    <tr>\n",
              "      <th>0</th>\n",
              "      <td>536365</td>\n",
              "      <td>139.12</td>\n",
              "    </tr>\n",
              "    <tr>\n",
              "      <th>1</th>\n",
              "      <td>536366</td>\n",
              "      <td>22.20</td>\n",
              "    </tr>\n",
              "    <tr>\n",
              "      <th>2</th>\n",
              "      <td>536367</td>\n",
              "      <td>278.73</td>\n",
              "    </tr>\n",
              "    <tr>\n",
              "      <th>3</th>\n",
              "      <td>536368</td>\n",
              "      <td>70.05</td>\n",
              "    </tr>\n",
              "    <tr>\n",
              "      <th>4</th>\n",
              "      <td>536369</td>\n",
              "      <td>17.85</td>\n",
              "    </tr>\n",
              "  </tbody>\n",
              "</table>\n",
              "</div>"
            ],
            "text/plain": [
              "  invoice_num  amount_spent\n",
              "0      536365        139.12\n",
              "1      536366         22.20\n",
              "2      536367        278.73\n",
              "3      536368         70.05\n",
              "4      536369         17.85"
            ]
          },
          "metadata": {},
          "execution_count": 187
        }
      ]
    },
    {
      "cell_type": "code",
      "metadata": {
        "colab": {
          "base_uri": "https://localhost:8080/"
        },
        "id": "tCMgKFAznDfb",
        "outputId": "2ef9201a-d459-4af3-cb22-bb8539f16656"
      },
      "source": [
        "#sum(amount_spent) / total of invoice_num\n",
        "average_ticket=ticket_value['amount_spent'].sum()/len(ticket_value['invoice_num'])\n",
        "print('The average ticket is:', average_ticket)"
      ],
      "execution_count": 202,
      "outputs": [
        {
          "output_type": "stream",
          "name": "stdout",
          "text": [
            "The average ticket is: 474.72032817169253\n"
          ]
        }
      ]
    },
    {
      "cell_type": "code",
      "metadata": {
        "colab": {
          "base_uri": "https://localhost:8080/"
        },
        "id": "NHLdQ31nok8z",
        "outputId": "c1eb2feb-3a35-451e-aa36-8dba50d5b4cc"
      },
      "source": [
        "ticket_value['amount_spent'].mean()"
      ],
      "execution_count": 185,
      "outputs": [
        {
          "output_type": "execute_result",
          "data": {
            "text/plain": [
              "474.7203281716922"
            ]
          },
          "metadata": {},
          "execution_count": 185
        }
      ]
    },
    {
      "cell_type": "markdown",
      "metadata": {
        "id": "wQtA79bTsKQ_"
      },
      "source": [
        "The average ticket is 474.72"
      ]
    },
    {
      "cell_type": "code",
      "metadata": {
        "id": "7fXxHbQgo8a8"
      },
      "source": [
        ""
      ],
      "execution_count": null,
      "outputs": []
    },
    {
      "cell_type": "code",
      "metadata": {
        "id": "RLccFHi7sFVA"
      },
      "source": [
        ""
      ],
      "execution_count": null,
      "outputs": []
    }
  ]
}